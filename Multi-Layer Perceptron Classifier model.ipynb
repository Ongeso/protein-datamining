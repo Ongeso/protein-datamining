{
 "cells": [
  {
   "cell_type": "markdown",
   "metadata": {},
   "source": [
    "# 1. Importing necessary libraries"
   ]
  },
  {
   "cell_type": "code",
   "execution_count": 47,
   "metadata": {},
   "outputs": [],
   "source": [
    "import pandas as pd# fro preparing dataframe\n",
    "import numpy as np\n",
    "import matplotlib.pyplot as plt # for visualizing clusters\n",
    "from matplotlib import style\n",
    "style.use(\"ggplot\") # choosing the style for visualising clusters\n",
    "from scipy.cluster.hierarchy import linkage,dendrogram #descriptive analytic \n",
    "from sklearn.cluster import KMeans #Descriptive analytic algorithm\n",
    "from sklearn import preprocessing # for preparing data\n",
    "from sklearn.preprocessing import Normalizer # For Normalizing data\n",
    "from numpy import set_printoptions # for limiting number decimals\n",
    "from sklearn.decomposition import PCA # for reducing attributes\n",
    "from sklearn.model_selection import train_test_split\n"
   ]
  },
  {
   "cell_type": "markdown",
   "metadata": {},
   "source": [
    "# 2. Extracting data"
   ]
  },
  {
   "cell_type": "code",
   "execution_count": 48,
   "metadata": {},
   "outputs": [
    {
     "name": "stdout",
     "output_type": "stream",
     "text": [
      "      Molecular_Weight   Gravity  Aromaticity  Instability  Isoelectic_Point  \\\n",
      "0           93323.4594 -0.213571     0.075000    33.803119          5.995056   \n",
      "1           27949.8955 -0.740000     0.077551    48.864980          4.799377   \n",
      "2           17453.7134 -0.450327     0.098039    37.247124          6.489685   \n",
      "3           35268.1468 -0.009366     0.063444    30.649245          8.177429   \n",
      "4           25718.5138 -0.406912     0.142857    36.475576          8.082214   \n",
      "5          120634.5465 -0.098273     0.088182    34.071391          6.960754   \n",
      "6          250774.6466 -0.300983     0.082700    40.815919          5.869080   \n",
      "7           36569.4096 -0.055917     0.082840    19.513609          7.596985   \n",
      "8           25318.1366 -0.447727     0.081818    37.295909          8.694397   \n",
      "9           48297.1855 -0.343678     0.071264    33.785310          8.733215   \n",
      "10          42137.1258 -0.597855     0.107239    44.941019          6.640320   \n",
      "11          58065.7220  0.008534     0.025974    36.706122          8.237488   \n",
      "12          16341.0380 -0.317089     0.031646    17.428481          6.482849   \n",
      "13          33219.9612 -0.600000     0.094077    33.946725          4.859436   \n",
      "14         122943.1471 -0.599912     0.063717    52.134345          8.797913   \n",
      "15          21898.8698 -0.076119     0.084577    47.526368          6.146667   \n",
      "16          11006.3533 -0.677551     0.081633    22.532653          5.381409   \n",
      "17          38628.8645 -0.003039     0.049724    31.969890          5.093323   \n",
      "18          38753.1242 -0.441369     0.110119    39.405357          9.241882   \n",
      "19          35537.1575 -0.203537     0.115756    27.675595          5.232727   \n",
      "20          34582.6007 -0.087459     0.099010    42.583531          7.625671   \n",
      "21          78735.5332 -0.370597     0.056818    41.267060          7.674866   \n",
      "22          17931.1049 -0.440127     0.089172    51.863057          6.475037   \n",
      "23          40572.7769 -0.497222     0.066667    54.905000          6.199280   \n",
      "24          47250.7644 -0.175346     0.064516    42.966129          6.183533   \n",
      "25          28960.0173 -0.586486     0.104247    30.166409          6.519714   \n",
      "26          80005.5000 -0.425286     0.107143    41.548729          4.917419   \n",
      "27         137415.6898 -0.225518     0.080365    43.039031          5.435608   \n",
      "28          64148.8643 -0.220280     0.082168    39.732360          5.789490   \n",
      "29         249235.0952 -0.311002     0.077370    48.303676          8.509827   \n",
      "...                ...       ...          ...          ...               ...   \n",
      "1445        32200.5311 -0.946853     0.048951    41.974476          4.289856   \n",
      "1446       100280.6297 -0.511250     0.089773    48.752739          6.644714   \n",
      "1447        47262.0882 -0.482911     0.052743    56.732911          6.872620   \n",
      "1448        70191.2588 -0.813756     0.043277    54.817496          9.326233   \n",
      "1449        64551.2677 -0.329401     0.093310    44.222905          7.947693   \n",
      "1450        68510.3554 -0.567395     0.053042    41.667239          7.029114   \n",
      "1451       167713.9547 -1.075627     0.033208    58.539919          8.218079   \n",
      "1452       126980.4633 -0.108860     0.078070    38.454921          5.140808   \n",
      "1453        16280.2646 -1.671212     0.068182   176.922727         12.029114   \n",
      "1454       135740.1172 -0.390607     0.092269    38.801837          7.561218   \n",
      "1455        65838.6424 -0.397083     0.061588    69.249773          9.704407   \n",
      "1456        43239.2891 -1.273421     0.055263    51.984474          9.358215   \n",
      "1457        57506.1524 -0.535359     0.079190    75.689687          8.505554   \n",
      "1458       150879.7794 -0.606100     0.058824    53.412869          8.892639   \n",
      "1459       110978.0475 -0.611782     0.059416    67.647855          6.908508   \n",
      "1460        72977.1360 -0.666921     0.099085    47.089497          6.049744   \n",
      "1461        37606.2130 -0.788855     0.081325    48.954518          5.444397   \n",
      "1462        74784.4435 -0.879795     0.045388    45.388726          6.196960   \n",
      "1463         8277.6267 -0.272857     0.085714    51.754286          7.653137   \n",
      "1464        41238.5969 -0.754701     0.085470    49.542735          6.137878   \n",
      "1465        36990.2056 -1.058187     0.070175    64.677485          9.945374   \n",
      "1466        31361.8728 -0.461348     0.070922    48.692553          4.740173   \n",
      "1467        27871.7699 -1.063750     0.091667    81.784208          9.093567   \n",
      "1468        24425.1972 -0.667111     0.022222    51.563556          7.973328   \n",
      "1469        79774.1660 -0.908745     0.062059    56.718054          8.861389   \n",
      "1470        81748.5311 -1.143912     0.046512    40.067579          4.860535   \n",
      "1471        29119.2670 -0.536111     0.099206    58.509921          5.039734   \n",
      "1472        43108.0134 -0.869110     0.070681    55.936911          6.387146   \n",
      "1473        11475.8364 -1.390909     0.080808    58.290909          9.895569   \n",
      "1474        13916.1114 -0.434127     0.039683    25.568254         10.327454   \n",
      "\n",
      "     Compartment  \n",
      "0        Cytosol  \n",
      "1        Cytosol  \n",
      "2        Cytosol  \n",
      "3        Cytosol  \n",
      "4        Cytosol  \n",
      "5        Cytosol  \n",
      "6        Cytosol  \n",
      "7        Cytosol  \n",
      "8        Cytosol  \n",
      "9        Cytosol  \n",
      "10       Cytosol  \n",
      "11       Cytosol  \n",
      "12       Cytosol  \n",
      "13       Cytosol  \n",
      "14       Cytosol  \n",
      "15       Cytosol  \n",
      "16       Cytosol  \n",
      "17       Cytosol  \n",
      "18       Cytosol  \n",
      "19       Cytosol  \n",
      "20       Cytosol  \n",
      "21       Cytosol  \n",
      "22       Cytosol  \n",
      "23       Cytosol  \n",
      "24       Cytosol  \n",
      "25       Cytosol  \n",
      "26       Cytosol  \n",
      "27       Cytosol  \n",
      "28       Cytosol  \n",
      "29       Cytosol  \n",
      "...          ...  \n",
      "1445     Nucleus  \n",
      "1446     Nucleus  \n",
      "1447     Nucleus  \n",
      "1448     Nucleus  \n",
      "1449     Nucleus  \n",
      "1450     Nucleus  \n",
      "1451     Nucleus  \n",
      "1452     Nucleus  \n",
      "1453     Nucleus  \n",
      "1454     Nucleus  \n",
      "1455     Nucleus  \n",
      "1456     Nucleus  \n",
      "1457     Nucleus  \n",
      "1458     Nucleus  \n",
      "1459     Nucleus  \n",
      "1460     Nucleus  \n",
      "1461     Nucleus  \n",
      "1462     Nucleus  \n",
      "1463     Nucleus  \n",
      "1464     Nucleus  \n",
      "1465     Nucleus  \n",
      "1466     Nucleus  \n",
      "1467     Nucleus  \n",
      "1468     Nucleus  \n",
      "1469     Nucleus  \n",
      "1470     Nucleus  \n",
      "1471     Nucleus  \n",
      "1472     Nucleus  \n",
      "1473     Nucleus  \n",
      "1474     Nucleus  \n",
      "\n",
      "[1475 rows x 6 columns]\n"
     ]
    }
   ],
   "source": [
    "path='C:/Users/User/Desktop/Data/datafinale.csv'\n",
    "attributes=['Molecular_Weight','Gravity','Aromaticity','Instability','Isoelectic_Point','Compartment']\n",
    "data=pd.read_csv(path, names=attributes)\n",
    "print(data)"
   ]
  },
  {
   "cell_type": "markdown",
   "metadata": {},
   "source": [
    "# 3. Understanding Data"
   ]
  },
  {
   "cell_type": "code",
   "execution_count": 49,
   "metadata": {},
   "outputs": [
    {
     "name": "stdout",
     "output_type": "stream",
     "text": [
      "       Molecular_Weight      Gravity  Aromaticity  Instability  \\\n",
      "count        1475.00000  1475.000000  1475.000000  1475.000000   \n",
      "mean        58000.18511    -0.505198     0.074698    47.049551   \n",
      "std         47394.06149     0.360483     0.027155    17.962127   \n",
      "min          5966.91840    -2.657143     0.000000    -6.006803   \n",
      "25%         29681.29515    -0.687294     0.057268    37.276526   \n",
      "50%         46481.27160    -0.473278     0.073846    44.776744   \n",
      "75%         71091.88025    -0.281112     0.090040    54.921842   \n",
      "max        538812.43550     1.224138     0.227586   296.409091   \n",
      "\n",
      "       Isoelectic_Point  \n",
      "count       1475.000000  \n",
      "mean           7.311856  \n",
      "std            1.839831  \n",
      "min            3.605530  \n",
      "25%            5.760193  \n",
      "50%            6.895813  \n",
      "75%            8.871643  \n",
      "max           13.366028  \n"
     ]
    }
   ],
   "source": [
    "\n",
    "print(data.describe())"
   ]
  },
  {
   "cell_type": "markdown",
   "metadata": {},
   "source": [
    "# 4. Split Training and Test Data Set"
   ]
  },
  {
   "cell_type": "code",
   "execution_count": 50,
   "metadata": {},
   "outputs": [
    {
     "name": "stdout",
     "output_type": "stream",
     "text": [
      "Training Set\n",
      "      Molecular_Weight   Gravity  Aromaticity  Instability  Isoelectic_Point  \\\n",
      "1416        19487.2768 -0.858192     0.039548    64.193785          5.152649   \n",
      "1427        18451.9891 -0.512651     0.066265    60.777108          9.658264   \n",
      "402         25703.5918  0.243083     0.075099    43.735573          9.020203   \n",
      "285         51609.9517 -0.494503     0.059197    52.722833          6.712830   \n",
      "194         85004.5028 -0.431629     0.091521    31.863257          7.241882   \n",
      "1468        24425.1972 -0.667111     0.022222    51.563556          7.973328   \n",
      "932         77735.7900 -0.778717     0.061224    59.129883          6.657166   \n",
      "886         31409.5489 -0.842561     0.100346    66.415260          8.493835   \n",
      "1329        74747.1439 -0.351510     0.133545    39.051685          8.501038   \n",
      "498         42116.7654  0.018898     0.049869    58.322310          5.269836   \n",
      "1121        44914.4626 -0.345093     0.049065    68.789252          6.418396   \n",
      "732         35596.0269  0.140533     0.050296    31.594379          8.824280   \n",
      "701         51677.7621 -0.537802     0.105495    41.316308          8.615906   \n",
      "1312        15280.5500 -0.577692     0.069231    53.023846          9.427795   \n",
      "356         10892.8721 -0.171134     0.061856    19.565979         10.037781   \n",
      "1215        34064.4450 -0.963729     0.091525    62.115593          4.125671   \n",
      "1143        39323.9530 -0.793696     0.057307    57.430372          7.692200   \n",
      "614        159762.4597 -0.469972     0.068214    46.446842          5.992493   \n",
      "468         61123.3869 -0.034296     0.050542    47.796209          5.131165   \n",
      "127         20023.7726 -0.209357     0.146199    51.925263          5.092346   \n",
      "341         29573.6769 -0.178788     0.098485    42.724621          5.560852   \n",
      "688         91282.1363 -0.285958     0.067155    37.130647          6.069885   \n",
      "169         99125.3441 -0.147339     0.082040    28.625166          5.788757   \n",
      "119         51299.3634 -0.780172     0.045259    53.634483          5.209656   \n",
      "1267        21275.8704 -1.159358     0.069519    43.473262          9.453064   \n",
      "1473        11475.8364 -1.390909     0.080808    58.290909          9.895569   \n",
      "928         53330.8114 -0.382158     0.058091    63.815560          8.519348   \n",
      "1131        95359.2557 -0.583986     0.047235    54.790668          8.865540   \n",
      "452         44001.6936  0.052513     0.077889    41.351508          9.349548   \n",
      "1048        96538.3211 -0.730201     0.042506    53.253702          6.036926   \n",
      "...                ...       ...          ...          ...               ...   \n",
      "255         94545.7644 -0.230200     0.079906    30.142444          6.097229   \n",
      "892         34892.4543 -0.694311     0.038922    47.335329          5.765564   \n",
      "359         11174.8860 -0.084000     0.080000    27.226000          6.269470   \n",
      "51          14933.0010 -0.354135     0.075188    25.120301          6.192322   \n",
      "875         25524.0141 -1.647511     0.058824   131.996380         11.860291   \n",
      "938         32133.5926 -1.325632     0.083032    59.904368          4.121155   \n",
      "772         28225.4627 -1.090775     0.055351    64.198893          8.201721   \n",
      "1126        39955.9471 -0.465691     0.066489    68.134335          9.444763   \n",
      "1219        41597.0355 -0.333596     0.062992    34.010787          8.097107   \n",
      "679         31279.9142 -0.045172     0.068966    25.629345          8.040466   \n",
      "805         53893.9848 -0.562924     0.114407    50.464831          5.333191   \n",
      "124        347855.5609 -0.068543     0.060115    56.261791          5.808044   \n",
      "404         35601.8875 -0.464537     0.079872    68.157189          5.880066   \n",
      "730         13932.3471 -0.636975     0.092437    37.616050         10.322449   \n",
      "1311        67501.3782 -0.580207     0.104991    48.204303          7.981384   \n",
      "831         85002.0140 -0.676127     0.062334    48.833037          8.271912   \n",
      "1071        27979.2742 -0.564844     0.074219    75.103203          8.860291   \n",
      "725         22039.9980 -0.191787     0.077295    26.147343          9.485779   \n",
      "587         39623.0669  0.016120     0.076503    31.764754          6.038757   \n",
      "607         10881.5528 -0.337755     0.051020    31.558265         10.241638   \n",
      "433         28122.4093 -0.646835     0.105485    68.171772          5.727844   \n",
      "674         11617.3991 -0.730769     0.086538    11.389423          9.587219   \n",
      "1287        27155.1984 -0.828279     0.061475    57.818033          8.800354   \n",
      "360         27869.6792  0.156274     0.079848    32.796198          6.788879   \n",
      "1099        31015.7140 -0.525952     0.031142    35.921453          9.372253   \n",
      "466         92340.8609 -0.415810     0.226614    36.038300          5.591492   \n",
      "299        102726.0835 -0.422901     0.073064    48.007197          5.258850   \n",
      "493         20666.9270 -0.445304     0.154696    30.209392          6.888000   \n",
      "527         60234.0316 -0.184934     0.103578    49.519416          9.045593   \n",
      "1192        46867.0130 -0.361163     0.065116    61.614884          7.635315   \n",
      "\n",
      "        Compartment  \n",
      "1416        Nucleus  \n",
      "1427        Nucleus  \n",
      "402   Extracellular  \n",
      "285         Cytosol  \n",
      "194         Cytosol  \n",
      "1468        Nucleus  \n",
      "932         Nucleus  \n",
      "886         Nucleus  \n",
      "1329        Nucleus  \n",
      "498   Extracellular  \n",
      "1121        Nucleus  \n",
      "732    Mitochondria  \n",
      "701    Mitochondria  \n",
      "1312        Nucleus  \n",
      "356   Extracellular  \n",
      "1215        Nucleus  \n",
      "1143        Nucleus  \n",
      "614    Mitochondria  \n",
      "468   Extracellular  \n",
      "127         Cytosol  \n",
      "341         Cytosol  \n",
      "688    Mitochondria  \n",
      "169         Cytosol  \n",
      "119         Cytosol  \n",
      "1267        Nucleus  \n",
      "1473        Nucleus  \n",
      "928         Nucleus  \n",
      "1131        Nucleus  \n",
      "452   Extracellular  \n",
      "1048        Nucleus  \n",
      "...             ...  \n",
      "255         Cytosol  \n",
      "892         Nucleus  \n",
      "359   Extracellular  \n",
      "51          Cytosol  \n",
      "875         Nucleus  \n",
      "938         Nucleus  \n",
      "772         Nucleus  \n",
      "1126        Nucleus  \n",
      "1219        Nucleus  \n",
      "679    Mitochondria  \n",
      "805         Nucleus  \n",
      "124         Cytosol  \n",
      "404   Extracellular  \n",
      "730    Mitochondria  \n",
      "1311        Nucleus  \n",
      "831         Nucleus  \n",
      "1071        Nucleus  \n",
      "725    Mitochondria  \n",
      "587    Mitochondria  \n",
      "607    Mitochondria  \n",
      "433   Extracellular  \n",
      "674    Mitochondria  \n",
      "1287        Nucleus  \n",
      "360   Extracellular  \n",
      "1099        Nucleus  \n",
      "466   Extracellular  \n",
      "299         Cytosol  \n",
      "493   Extracellular  \n",
      "527    Mitochondria  \n",
      "1192        Nucleus  \n",
      "\n",
      "[1180 rows x 6 columns]\n",
      "Testing Sample\n",
      "      Molecular_Weight   Gravity  Aromaticity  Instability  Isoelectic_Point  \\\n",
      "1378        50667.4842 -0.383482     0.071429    57.731027          5.698669   \n",
      "803         55461.9333 -0.706627     0.048193    72.298594          6.154602   \n",
      "1201       100591.0879 -0.758621     0.052280    50.913704          6.465759   \n",
      "1449        64551.2677 -0.329401     0.093310    44.222905          7.947693   \n",
      "137         30596.7137 -0.348913     0.061594    40.028986          7.605164   \n",
      "58          29691.1512 -0.241538     0.084615    44.381154          6.679749   \n",
      "694          9483.2069 -1.650602     0.084337    32.651807          7.928650   \n",
      "477         45627.4603 -0.302670     0.116505    31.705388          5.157410   \n",
      "719         36850.8276 -0.637107     0.084906    49.528365          9.084656   \n",
      "505         64040.4783 -0.356771     0.067708    29.387153          6.768738   \n",
      "68         262716.6034 -0.249355     0.085628    41.296958          6.019836   \n",
      "365         31361.4164 -0.840532     0.043189    31.853156          5.042297   \n",
      "532         38252.2597 -0.491066     0.083573    41.794841          9.612610   \n",
      "1260        16622.0590 -0.135404     0.012422    65.856522          8.685486   \n",
      "920        160468.6003 -0.563084     0.069086    38.272380          9.109070   \n",
      "960         67236.4508 -0.468631     0.042994    62.076274          5.756653   \n",
      "287         10414.4980 -0.378495     0.086022     8.243011          4.389832   \n",
      "1053        32561.9829 -0.267340     0.067340    48.340741          5.895813   \n",
      "145        144956.9247 -0.242654     0.102686    39.984060          5.862976   \n",
      "711         19959.6638 -0.716959     0.093567    48.658480          8.268127   \n",
      "853         30084.2487 -0.370189     0.105660    55.389849          9.387756   \n",
      "994         28644.8579 -0.665299     0.052239    52.592201          6.855774   \n",
      "455         24118.8248 -0.550704     0.070423    82.913615          6.545471   \n",
      "988         92925.2679 -0.947394     0.056970    46.886558          4.775208   \n",
      "157         24254.4810 -0.425225     0.045045    34.132477          5.982361   \n",
      "462         23727.5576 -0.508597     0.131222    24.169231          9.018250   \n",
      "1390        13815.6213 -0.209016     0.073770    54.417213          4.714661   \n",
      "101         12211.8882  0.072807     0.070175    27.609649          8.179749   \n",
      "1052        34991.5207 -0.611799     0.073746    68.106785          9.106750   \n",
      "370         69292.6835 -0.428995     0.088962    40.280577          5.822693   \n",
      "...                ...       ...          ...          ...               ...   \n",
      "464         54769.5840  0.175862     0.091278    33.105477          5.696594   \n",
      "84          54743.0163 -0.166600     0.096000    31.635420          6.428894   \n",
      "1170        54055.1538 -0.386164     0.085954    49.569602          5.822205   \n",
      "801         49667.5331 -0.206485     0.077406    60.615502          6.670227   \n",
      "1463         8277.6267 -0.272857     0.085714    51.754286          7.653137   \n",
      "1264        49187.7010 -0.722717     0.084633    61.499109          9.228333   \n",
      "961         56871.0513 -1.061373     0.033333    50.893725          4.672302   \n",
      "816        109172.9283 -0.633608     0.070103    52.492495          8.228088   \n",
      "715         73778.7780 -0.406333     0.047128    39.134624          5.970642   \n",
      "1081       104726.4753 -0.343003     0.063330    60.626874          5.892029   \n",
      "1342       163807.9243 -0.777725     0.059946    62.688495          8.768127   \n",
      "7           36569.4096 -0.055917     0.082840    19.513609          7.596985   \n",
      "608         36601.6183 -0.153254     0.059172    45.339675          7.131042   \n",
      "1453        16280.2646 -1.671212     0.068182   176.922727         12.029114   \n",
      "590         43770.4927 -0.291414     0.095960    29.060884          7.983826   \n",
      "619         12247.6452 -1.105607     0.056075    48.500000          9.596130   \n",
      "318         35545.7241 -0.352941     0.137255    34.092157          5.159485   \n",
      "102        116920.9345 -0.403363     0.087043    43.210791          5.021545   \n",
      "1218        20396.1065 -0.571038     0.054645    58.751913          7.704041   \n",
      "1244        46662.2294 -0.423614     0.072289    40.080000          9.518494   \n",
      "47          78182.1904 -0.441983     0.088921    47.281647          5.539612   \n",
      "1108        32790.3267 -0.522635     0.067568    41.307770          4.923279   \n",
      "185         21746.1737 -0.367677     0.121212    41.091414          5.318542   \n",
      "171         47782.1631 -0.134325     0.075515    27.621762          5.658875   \n",
      "1058        74072.1496 -0.917352     0.062405    55.391172          8.985291   \n",
      "508         55398.8369 -0.520675     0.092827    34.472996          7.249939   \n",
      "798         83111.7505 -0.776517     0.056728    65.525739          6.895813   \n",
      "653         55560.2446 -0.561448     0.076321    34.856947          9.306458   \n",
      "61          26348.1025 -0.160173     0.121212    30.639827          7.063416   \n",
      "323         53803.5750 -0.551600     0.042000    57.507820          4.716736   \n",
      "\n",
      "        Compartment  \n",
      "1378        Nucleus  \n",
      "803         Nucleus  \n",
      "1201        Nucleus  \n",
      "1449        Nucleus  \n",
      "137         Cytosol  \n",
      "58          Cytosol  \n",
      "694    Mitochondria  \n",
      "477   Extracellular  \n",
      "719    Mitochondria  \n",
      "505    Mitochondria  \n",
      "68          Cytosol  \n",
      "365   Extracellular  \n",
      "532    Mitochondria  \n",
      "1260        Nucleus  \n",
      "920         Nucleus  \n",
      "960         Nucleus  \n",
      "287         Cytosol  \n",
      "1053        Nucleus  \n",
      "145         Cytosol  \n",
      "711    Mitochondria  \n",
      "853         Nucleus  \n",
      "994         Nucleus  \n",
      "455   Extracellular  \n",
      "988         Nucleus  \n",
      "157         Cytosol  \n",
      "462   Extracellular  \n",
      "1390        Nucleus  \n",
      "101         Cytosol  \n",
      "1052        Nucleus  \n",
      "370   Extracellular  \n",
      "...             ...  \n",
      "464   Extracellular  \n",
      "84          Cytosol  \n",
      "1170        Nucleus  \n",
      "801         Nucleus  \n",
      "1463        Nucleus  \n",
      "1264        Nucleus  \n",
      "961         Nucleus  \n",
      "816         Nucleus  \n",
      "715    Mitochondria  \n",
      "1081        Nucleus  \n",
      "1342        Nucleus  \n",
      "7           Cytosol  \n",
      "608    Mitochondria  \n",
      "1453        Nucleus  \n",
      "590    Mitochondria  \n",
      "619    Mitochondria  \n",
      "318         Cytosol  \n",
      "102         Cytosol  \n",
      "1218        Nucleus  \n",
      "1244        Nucleus  \n",
      "47          Cytosol  \n",
      "1108        Nucleus  \n",
      "185         Cytosol  \n",
      "171         Cytosol  \n",
      "1058        Nucleus  \n",
      "508    Mitochondria  \n",
      "798         Nucleus  \n",
      "653    Mitochondria  \n",
      "61          Cytosol  \n",
      "323         Cytosol  \n",
      "\n",
      "[295 rows x 6 columns]\n"
     ]
    }
   ],
   "source": [
    "TrainingSample,TestSample=train_test_split(data, test_size=0.2, random_state=2 ) #default is 25% starts at row number 2\n",
    "print (\"Training Set\")\n",
    "print(TrainingSample)\n",
    "print(\"Testing Sample\")\n",
    "print(TestSample)"
   ]
  },
  {
   "cell_type": "markdown",
   "metadata": {},
   "source": [
    "# 5. Splitting Input and Output Variables"
   ]
  },
  {
   "cell_type": "markdown",
   "metadata": {},
   "source": [
    "Slice the input and Output Training variables Data"
   ]
  },
  {
   "cell_type": "code",
   "execution_count": 51,
   "metadata": {
    "scrolled": false
   },
   "outputs": [
    {
     "name": "stdout",
     "output_type": "stream",
     "text": [
      "Input Variables of Training Data\n",
      "Output Variables of Training Data\n"
     ]
    }
   ],
   "source": [
    "\n",
    "\n",
    "Training_InputVariables=TrainingSample.values[:,0:5]\n",
    "\n",
    "# Slice the Output Variable Data\n",
    "Training_OutputVariable=TrainingSample.values[:,5]\n",
    "print(\"Input Variables of Training Data\")\n",
    "#print (Training_InputVariables)\n",
    "print(\"Output Variables of Training Data\")\n",
    "#print (Training_OutputVariable)"
   ]
  },
  {
   "cell_type": "markdown",
   "metadata": {},
   "source": [
    "## Splitting Input and Output Test Variables\n"
   ]
  },
  {
   "cell_type": "code",
   "execution_count": 52,
   "metadata": {},
   "outputs": [
    {
     "name": "stdout",
     "output_type": "stream",
     "text": [
      "Input Variables of Test Data\n",
      "Output Variables of Test Data\n"
     ]
    }
   ],
   "source": [
    "# Slice the input variables Data\n",
    "Test_InputVariables=TestSample.values[:,0:5]\n",
    "\n",
    "# Slice the Output Variable Data\n",
    "Test_OutputVariable=TestSample.values[:,5]\n",
    "print(\"Input Variables of Test Data\")\n",
    "#print (Test_InputVariables)\n",
    "print(\"Output Variables of Test Data\")\n",
    "#print (Test_OutputVariable)"
   ]
  },
  {
   "cell_type": "markdown",
   "metadata": {},
   "source": [
    "# 6. Data Preprocessing\n"
   ]
  },
  {
   "cell_type": "markdown",
   "metadata": {},
   "source": [
    "The neural network in Python may have difficulty converging before the maximum number of iterations allowed if the data is not normalized.\n",
    "Multi-layer Perceptron is sensitive to feature scaling so it is highly recommended to scale your data. \n",
    "Note that you must apply the same scaling to the test set for meaningful results. \n",
    "There are a lot of different methods for normalization of data, we will use the built-in StandardScaler for standardization."
   ]
  },
  {
   "cell_type": "code",
   "execution_count": 53,
   "metadata": {},
   "outputs": [],
   "source": [
    "from sklearn.preprocessing import StandardScaler"
   ]
  },
  {
   "cell_type": "code",
   "execution_count": 54,
   "metadata": {},
   "outputs": [],
   "source": [
    "scaler = StandardScaler()"
   ]
  },
  {
   "cell_type": "code",
   "execution_count": 55,
   "metadata": {},
   "outputs": [
    {
     "name": "stderr",
     "output_type": "stream",
     "text": [
      "C:\\Users\\User\\Anaconda3\\lib\\site-packages\\sklearn\\utils\\validation.py:595: DataConversionWarning: Data with input dtype object was converted to float64 by StandardScaler.\n",
      "  warnings.warn(msg, DataConversionWarning)\n"
     ]
    },
    {
     "data": {
      "text/plain": [
       "StandardScaler(copy=True, with_mean=True, with_std=True)"
      ]
     },
     "execution_count": 55,
     "metadata": {},
     "output_type": "execute_result"
    }
   ],
   "source": [
    "# Fit only to the training data\n",
    "scaler.fit(Training_InputVariables)"
   ]
  },
  {
   "cell_type": "code",
   "execution_count": 56,
   "metadata": {},
   "outputs": [
    {
     "name": "stderr",
     "output_type": "stream",
     "text": [
      "C:\\Users\\User\\Anaconda3\\lib\\site-packages\\sklearn\\utils\\validation.py:595: DataConversionWarning: Data with input dtype object was converted to float64 by StandardScaler.\n",
      "  warnings.warn(msg, DataConversionWarning)\n",
      "C:\\Users\\User\\Anaconda3\\lib\\site-packages\\sklearn\\utils\\validation.py:595: DataConversionWarning: Data with input dtype object was converted to float64 by StandardScaler.\n",
      "  warnings.warn(msg, DataConversionWarning)\n"
     ]
    }
   ],
   "source": [
    "# Now apply the transformations to the data:\n",
    "Training_InputVariables= scaler.transform(Training_InputVariables)\n",
    "Test_InputVariables= scaler.transform(Test_InputVariables)"
   ]
  },
  {
   "cell_type": "markdown",
   "metadata": {},
   "source": [
    "# 7. Importing and Training Models\n",
    " \n",
    "We will import our estimator (the Multi-Layer Perceptron Classifier model) from the neural_network library of SciKit-Learn!"
   ]
  },
  {
   "cell_type": "code",
   "execution_count": 57,
   "metadata": {},
   "outputs": [],
   "source": [
    "from sklearn.neural_network import MLPClassifier"
   ]
  },
  {
   "cell_type": "markdown",
   "metadata": {},
   "source": [
    "Next we create an instance of the model, \n",
    "we define the hidden_layer_sizes. \n",
    "For this parameter you pass in a tuple consisting of the number of neurons you want at each layer,\n",
    "where the nth entry in the tuple represents the number of neurons in the nth layer of the MLP model. \n",
    "There are many ways to choose these numbers, \n",
    "We choose 3 layers with the same number of neurons as there are features in our data set along with 500 max iterations."
   ]
  },
  {
   "cell_type": "code",
   "execution_count": 58,
   "metadata": {},
   "outputs": [],
   "source": [
    "\n",
    "mlp = MLPClassifier(hidden_layer_sizes=(5,5,5),max_iter=500)"
   ]
  },
  {
   "cell_type": "code",
   "execution_count": 59,
   "metadata": {},
   "outputs": [
    {
     "data": {
      "text/plain": [
       "MLPClassifier(activation='relu', alpha=0.0001, batch_size='auto', beta_1=0.9,\n",
       "       beta_2=0.999, early_stopping=False, epsilon=1e-08,\n",
       "       hidden_layer_sizes=(5, 5, 5), learning_rate='constant',\n",
       "       learning_rate_init=0.001, max_iter=500, momentum=0.9,\n",
       "       n_iter_no_change=10, nesterovs_momentum=True, power_t=0.5,\n",
       "       random_state=None, shuffle=True, solver='adam', tol=0.0001,\n",
       "       validation_fraction=0.1, verbose=False, warm_start=False)"
      ]
     },
     "execution_count": 59,
     "metadata": {},
     "output_type": "execute_result"
    }
   ],
   "source": [
    "# Now that the model has been made we can fit the training data to our model, \n",
    "# remember that this data has already been processed and scaled:\n",
    "\n",
    "mlp.fit(Training_InputVariables,Training_OutputVariable)"
   ]
  },
  {
   "cell_type": "markdown",
   "metadata": {},
   "source": [
    "# 8. Predictions and Evaluation"
   ]
  },
  {
   "cell_type": "code",
   "execution_count": 60,
   "metadata": {},
   "outputs": [
    {
     "name": "stdout",
     "output_type": "stream",
     "text": [
      "['Nucleus' 'Nucleus' 'Nucleus' 'Cytosol' 'Cytosol' 'Cytosol' 'Nucleus'\n",
      " 'Extracellular' 'Nucleus' 'Cytosol' 'Cytosol' 'Cytosol' 'Mitochondria'\n",
      " 'Nucleus' 'Nucleus' 'Nucleus' 'Extracellular' 'Cytosol' 'Nucleus'\n",
      " 'Nucleus' 'Mitochondria' 'Nucleus' 'Nucleus' 'Nucleus' 'Cytosol'\n",
      " 'Mitochondria' 'Nucleus' 'Cytosol' 'Nucleus' 'Cytosol' 'Cytosol'\n",
      " 'Nucleus' 'Nucleus' 'Nucleus' 'Cytosol' 'Cytosol' 'Extracellular'\n",
      " 'Nucleus' 'Cytosol' 'Nucleus' 'Nucleus' 'Nucleus' 'Nucleus' 'Nucleus'\n",
      " 'Cytosol' 'Nucleus' 'Nucleus' 'Mitochondria' 'Cytosol' 'Nucleus'\n",
      " 'Cytosol' 'Mitochondria' 'Cytosol' 'Nucleus' 'Nucleus' 'Extracellular'\n",
      " 'Cytosol' 'Nucleus' 'Nucleus' 'Cytosol' 'Nucleus' 'Mitochondria'\n",
      " 'Nucleus' 'Cytosol' 'Mitochondria' 'Cytosol' 'Nucleus' 'Cytosol'\n",
      " 'Nucleus' 'Nucleus' 'Cytosol' 'Nucleus' 'Nucleus' 'Nucleus' 'Nucleus'\n",
      " 'Cytosol' 'Cytosol' 'Cytosol' 'Nucleus' 'Nucleus' 'Nucleus' 'Nucleus'\n",
      " 'Nucleus' 'Mitochondria' 'Nucleus' 'Nucleus' 'Mitochondria' 'Cytosol'\n",
      " 'Nucleus' 'Nucleus' 'Nucleus' 'Nucleus' 'Nucleus' 'Cytosol' 'Nucleus'\n",
      " 'Nucleus' 'Nucleus' 'Cytosol' 'Nucleus' 'Nucleus' 'Cytosol'\n",
      " 'Mitochondria' 'Nucleus' 'Nucleus' 'Nucleus' 'Nucleus' 'Nucleus'\n",
      " 'Cytosol' 'Nucleus' 'Nucleus' 'Mitochondria' 'Nucleus' 'Mitochondria'\n",
      " 'Nucleus' 'Nucleus' 'Nucleus' 'Cytosol' 'Nucleus' 'Nucleus' 'Cytosol'\n",
      " 'Nucleus' 'Mitochondria' 'Nucleus' 'Nucleus' 'Nucleus' 'Mitochondria'\n",
      " 'Nucleus' 'Mitochondria' 'Nucleus' 'Cytosol' 'Nucleus' 'Cytosol'\n",
      " 'Mitochondria' 'Nucleus' 'Cytosol' 'Nucleus' 'Nucleus' 'Nucleus'\n",
      " 'Nucleus' 'Nucleus' 'Nucleus' 'Nucleus' 'Nucleus' 'Cytosol' 'Nucleus'\n",
      " 'Nucleus' 'Nucleus' 'Nucleus' 'Cytosol' 'Cytosol' 'Nucleus' 'Cytosol'\n",
      " 'Mitochondria' 'Mitochondria' 'Nucleus' 'Cytosol' 'Nucleus' 'Nucleus'\n",
      " 'Nucleus' 'Cytosol' 'Cytosol' 'Nucleus' 'Cytosol' 'Cytosol' 'Nucleus'\n",
      " 'Nucleus' 'Nucleus' 'Nucleus' 'Nucleus' 'Nucleus' 'Cytosol' 'Nucleus'\n",
      " 'Nucleus' 'Nucleus' 'Nucleus' 'Cytosol' 'Nucleus' 'Mitochondria'\n",
      " 'Nucleus' 'Nucleus' 'Nucleus' 'Mitochondria' 'Nucleus' 'Nucleus'\n",
      " 'Nucleus' 'Nucleus' 'Nucleus' 'Nucleus' 'Mitochondria' 'Nucleus'\n",
      " 'Cytosol' 'Nucleus' 'Cytosol' 'Nucleus' 'Cytosol' 'Cytosol' 'Nucleus'\n",
      " 'Nucleus' 'Cytosol' 'Mitochondria' 'Mitochondria' 'Cytosol' 'Nucleus'\n",
      " 'Nucleus' 'Mitochondria' 'Mitochondria' 'Cytosol' 'Nucleus'\n",
      " 'Mitochondria' 'Cytosol' 'Nucleus' 'Nucleus' 'Cytosol' 'Nucleus'\n",
      " 'Nucleus' 'Nucleus' 'Nucleus' 'Cytosol' 'Cytosol' 'Cytosol'\n",
      " 'Mitochondria' 'Nucleus' 'Cytosol' 'Mitochondria' 'Cytosol' 'Nucleus'\n",
      " 'Nucleus' 'Nucleus' 'Nucleus' 'Nucleus' 'Cytosol' 'Cytosol' 'Nucleus'\n",
      " 'Nucleus' 'Nucleus' 'Nucleus' 'Nucleus' 'Nucleus' 'Nucleus' 'Nucleus'\n",
      " 'Nucleus' 'Nucleus' 'Nucleus' 'Extracellular' 'Nucleus' 'Nucleus'\n",
      " 'Nucleus' 'Nucleus' 'Nucleus' 'Nucleus' 'Nucleus' 'Nucleus' 'Cytosol'\n",
      " 'Nucleus' 'Cytosol' 'Cytosol' 'Extracellular' 'Nucleus' 'Cytosol'\n",
      " 'Nucleus' 'Nucleus' 'Nucleus' 'Nucleus' 'Mitochondria' 'Cytosol'\n",
      " 'Cytosol' 'Cytosol' 'Cytosol' 'Nucleus' 'Cytosol' 'Nucleus' 'Nucleus'\n",
      " 'Nucleus' 'Cytosol' 'Nucleus' 'Nucleus' 'Cytosol' 'Cytosol' 'Nucleus'\n",
      " 'Mitochondria' 'Nucleus' 'Extracellular' 'Nucleus' 'Nucleus'\n",
      " 'Mitochondria' 'Nucleus' 'Nucleus' 'Cytosol' 'Cytosol' 'Nucleus'\n",
      " 'Cytosol' 'Nucleus' 'Mitochondria' 'Cytosol' 'Nucleus']\n"
     ]
    }
   ],
   "source": [
    "# Now that we have a model we use it to get predictions! \n",
    "# We can do this simply with the predict() method off of our fitted model:\n",
    "\n",
    "predictions = mlp.predict(Test_InputVariables)\n",
    "print(predictions)"
   ]
  },
  {
   "cell_type": "code",
   "execution_count": 61,
   "metadata": {},
   "outputs": [
    {
     "name": "stdout",
     "output_type": "stream",
     "text": [
      "Accuracy is\n",
      "65.76271186440678\n"
     ]
    }
   ],
   "source": [
    "# Evaluating The Multi-Layer Perceptron Model\n",
    "from sklearn.metrics import accuracy_score\n",
    "Testdata_predictions=mlp.predict(Test_InputVariables)\n",
    "print(\"Accuracy is\")\n",
    "ModelAccuracy=accuracy_score(Testdata_predictions, Test_OutputVariable)*100\n",
    "print(ModelAccuracy)"
   ]
  },
  {
   "cell_type": "code",
   "execution_count": 62,
   "metadata": {},
   "outputs": [],
   "source": [
    "# Now we can use SciKit-Learn’s built in metrics such as a classification report and confusion matrix to evaluate how well our model performed:\n",
    "from sklearn.metrics import classification_report,confusion_matrix"
   ]
  },
  {
   "cell_type": "code",
   "execution_count": 63,
   "metadata": {},
   "outputs": [
    {
     "name": "stdout",
     "output_type": "stream",
     "text": [
      "[[ 36   3   3  21]\n",
      " [ 19   2   3   8]\n",
      " [ 11   1  21  12]\n",
      " [ 14   1   5 135]]\n"
     ]
    }
   ],
   "source": [
    "print(confusion_matrix(Test_OutputVariable,predictions))"
   ]
  },
  {
   "cell_type": "code",
   "execution_count": 64,
   "metadata": {
    "scrolled": true
   },
   "outputs": [
    {
     "name": "stdout",
     "output_type": "stream",
     "text": [
      "               precision    recall  f1-score   support\n",
      "\n",
      "      Cytosol       0.45      0.57      0.50        63\n",
      "Extracellular       0.29      0.06      0.10        32\n",
      " Mitochondria       0.66      0.47      0.55        45\n",
      "      Nucleus       0.77      0.87      0.82       155\n",
      "\n",
      "    micro avg       0.66      0.66      0.66       295\n",
      "    macro avg       0.54      0.49      0.49       295\n",
      " weighted avg       0.63      0.66      0.63       295\n",
      "\n"
     ]
    }
   ],
   "source": [
    "print(classification_report(Test_OutputVariable,predictions))"
   ]
  },
  {
   "cell_type": "code",
   "execution_count": 65,
   "metadata": {},
   "outputs": [],
   "source": [
    "# 12. Predict all the records of Unknown data\n",
    "# extracting Unknown data\n",
    "path='C:/Users/User/Desktop/Data/test_data_for_classification.csv'\n",
    "attributes=['Molecular_Weight','Gravity','Aromaticity','Instability','Isoelectic_Point','Compartment']\n",
    "unknowndata=pd.read_csv(path, names=attributes)\n",
    "#print(unknowndata)"
   ]
  },
  {
   "cell_type": "code",
   "execution_count": 66,
   "metadata": {},
   "outputs": [
    {
     "name": "stdout",
     "output_type": "stream",
     "text": [
      "       Molecular_Weight    Gravity  Aromaticity  Instability  Isoelectic_Point\n",
      "count         20.000000  20.000000    20.000000    20.000000         20.000000\n",
      "mean       41537.690505  -0.330752     0.078720    41.165265          7.779529\n",
      "std        18373.515303   0.352151     0.023730    12.849688          1.896563\n",
      "min        14352.000700  -1.101833     0.048649    23.574262          4.019226\n",
      "25%        32644.786975  -0.631219     0.059577    31.610169          6.357452\n",
      "50%        39574.256050  -0.185042     0.072829    38.692497          8.357605\n",
      "75%        49286.619425  -0.095838     0.102079    49.454036          9.439514\n",
      "max        85515.797200   0.251081     0.123894    72.129532         10.125305\n"
     ]
    }
   ],
   "source": [
    "# 13. Understanding unknown Data\n",
    "print(unknowndata.describe())"
   ]
  },
  {
   "cell_type": "code",
   "execution_count": 67,
   "metadata": {},
   "outputs": [],
   "source": [
    "# Splitting Input/X Unknown Data\n",
    "# Slice the input variables Data\n",
    "X_Unknown=unknowndata.values[:,0:5]"
   ]
  },
  {
   "cell_type": "code",
   "execution_count": 68,
   "metadata": {},
   "outputs": [
    {
     "name": "stderr",
     "output_type": "stream",
     "text": [
      "C:\\Users\\User\\Anaconda3\\lib\\site-packages\\sklearn\\utils\\validation.py:595: DataConversionWarning: Data with input dtype object was converted to float64 by StandardScaler.\n",
      "  warnings.warn(msg, DataConversionWarning)\n"
     ]
    },
    {
     "data": {
      "text/plain": [
       "StandardScaler(copy=True, with_mean=True, with_std=True)"
      ]
     },
     "execution_count": 68,
     "metadata": {},
     "output_type": "execute_result"
    }
   ],
   "source": [
    "# Fit only to the Unknown data\n",
    "scaler.fit(X_Unknown)"
   ]
  },
  {
   "cell_type": "code",
   "execution_count": 69,
   "metadata": {},
   "outputs": [
    {
     "name": "stderr",
     "output_type": "stream",
     "text": [
      "C:\\Users\\User\\Anaconda3\\lib\\site-packages\\sklearn\\utils\\validation.py:595: DataConversionWarning: Data with input dtype object was converted to float64 by StandardScaler.\n",
      "  warnings.warn(msg, DataConversionWarning)\n"
     ]
    }
   ],
   "source": [
    "# Now apply the transformations to the Unknown data:\n",
    "X_Unknown= scaler.transform(X_Unknown)"
   ]
  },
  {
   "cell_type": "code",
   "execution_count": 70,
   "metadata": {},
   "outputs": [
    {
     "name": "stdout",
     "output_type": "stream",
     "text": [
      "['Nucleus' 'Cytosol' 'Cytosol' 'Nucleus' 'Nucleus' 'Nucleus' 'Nucleus'\n",
      " 'Nucleus' 'Cytosol' 'Cytosol' 'Cytosol' 'Nucleus' 'Mitochondria'\n",
      " 'Nucleus' 'Mitochondria' 'Nucleus' 'Cytosol' 'Cytosol' 'Extracellular'\n",
      " 'Cytosol']\n"
     ]
    }
   ],
   "source": [
    "predictions = mlp.predict(X_Unknown)\n",
    "print(predictions)"
   ]
  }
 ],
 "metadata": {
  "kernelspec": {
   "display_name": "Python 3",
   "language": "python",
   "name": "python3"
  },
  "language_info": {
   "codemirror_mode": {
    "name": "ipython",
    "version": 3
   },
   "file_extension": ".py",
   "mimetype": "text/x-python",
   "name": "python",
   "nbconvert_exporter": "python",
   "pygments_lexer": "ipython3",
   "version": "3.7.3"
  }
 },
 "nbformat": 4,
 "nbformat_minor": 2
}
