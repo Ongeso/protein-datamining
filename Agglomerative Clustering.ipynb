{
 "cells": [
  {
   "cell_type": "code",
   "execution_count": 622,
   "metadata": {},
   "outputs": [
    {
     "name": "stdout",
     "output_type": "stream",
     "text": [
      "   Degree_Award University Letter Experienced Hired\n",
      "0         First        UON   Good         Yes     Y\n",
      "1         First        UON   Good          No     Y\n",
      "2        Second        UON   Good          No     Y\n",
      "3        Second        UON   Good         Yes     Y\n",
      "4        Second        MOI   Good          No     Y\n",
      "5        Second         KU   Good          No     Y\n",
      "6        Second         KU   Good          No     N\n",
      "7        Second        UON   Good          No     N\n",
      "8          Pass        MOI    Bad         Yes     N\n",
      "9          Pass        UON    Bad          No     N\n",
      "10         Pass         KU   Good          No     N\n",
      "11         Pass         KU   Good          No     N\n",
      "12        First       KCAU   Good         Yes     Y\n",
      "13       Second       KCAU   Good         Yes     Y\n",
      "14       Second       KCAU    Bad         Yes     Y\n"
     ]
    }
   ],
   "source": [
    "#importing necessary libraries\n",
    "import pandas as pd# fro preparing dataframe\n",
    "import numpy as np\n",
    "import matplotlib.pyplot as plt # for visualizing clusters\n",
    "from matplotlib import style\n",
    "style.use(\"ggplot\") # choosing the style for visualising clusters\n",
    "from scipy.cluster.hierarchy import linkage,dendrogram #descriptive analytic \n",
    "from sklearn.cluster import KMeans #Descriptive analytic algorithm\n",
    "from sklearn import preprocessing # for preparing data\n",
    "from sklearn.preprocessing import Normalizer # For Normalizing data\n",
    "from numpy import set_printoptions # for limiting number decimals\n",
    "from sklearn.decomposition import PCA # for reducing attributes\n",
    "\n",
    "\n",
    "#extracting data\n",
    "path='C:/datamining/jobhunt.csv'\n",
    "attributes=['Degree_Award','University','Letter',\"Experienced\",'Hired']\n",
    "dataframe=pd.read_csv(path, names=attributes)\n",
    "print(dataframe)"
   ]
  },
  {
   "cell_type": "code",
   "execution_count": 623,
   "metadata": {},
   "outputs": [
    {
     "name": "stdout",
     "output_type": "stream",
     "text": [
      "Encoded Data:\n",
      "     Degree_Award  University  Letter  Experienced  Hired\n",
      "0              0           3       1            1      1\n",
      "1              0           3       1            0      1\n",
      "2              2           3       1            0      1\n",
      "3              2           3       1            1      1\n",
      "4              2           2       1            0      1\n",
      "5              2           1       1            0      1\n",
      "6              2           1       1            0      0\n",
      "7              2           3       1            0      0\n",
      "8              1           2       0            1      0\n",
      "9              1           3       0            0      0\n",
      "10             1           1       1            0      0\n",
      "11             1           1       1            0      0\n",
      "12             0           0       1            1      1\n",
      "13             2           0       1            1      1\n",
      "14             2           0       0            1      1\n"
     ]
    }
   ],
   "source": [
    "#perform data labeling\n",
    "encoder=preprocessing.LabelEncoder()\n",
    "encoded_dataframe=dataframe.apply(preprocessing.LabelEncoder().fit_transform)\n",
    "print(\"Encoded Data:\\n\", encoded_dataframe)\n"
   ]
  },
  {
   "cell_type": "code",
   "execution_count": 624,
   "metadata": {},
   "outputs": [
    {
     "name": "stdout",
     "output_type": "stream",
     "text": [
      "[[0 3 1 1 1]\n",
      " [0 3 1 0 1]\n",
      " [2 3 1 0 1]\n",
      " [2 3 1 1 1]\n",
      " [2 2 1 0 1]\n",
      " [2 1 1 0 1]\n",
      " [2 1 1 0 0]\n",
      " [2 3 1 0 0]\n",
      " [1 2 0 1 0]\n",
      " [1 3 0 0 0]\n",
      " [1 1 1 0 0]\n",
      " [1 1 1 0 0]\n",
      " [0 0 1 1 1]\n",
      " [2 0 1 1 1]\n",
      " [2 0 0 1 1]]\n"
     ]
    }
   ],
   "source": [
    "#Data Splitting\n",
    "# slicing\n",
    "from numpy import array\n",
    "#Creating Training and Test Data Samples\n",
    "#train=data[:split,:]\n",
    "#test=data[split:,:]\n",
    "\n",
    "#Step 1: Separate Numeric Data From Attribute Labels\n",
    "numeric_array=encoded_dataframe.values\n",
    "print(numeric_array)"
   ]
  },
  {
   "cell_type": "code",
   "execution_count": 625,
   "metadata": {},
   "outputs": [
    {
     "name": "stdout",
     "output_type": "stream",
     "text": [
      "Training Sample \n",
      " [[0 3 1 1 1]\n",
      " [0 3 1 0 1]\n",
      " [2 3 1 0 1]\n",
      " [2 3 1 1 1]\n",
      " [2 2 1 0 1]\n",
      " [2 1 1 0 1]\n",
      " [2 1 1 0 0]\n",
      " [2 3 1 0 0]\n",
      " [1 2 0 1 0]\n",
      " [1 3 0 0 0]]\n",
      "Test Sample \n",
      " [[1 1 1 0 0]\n",
      " [1 1 1 0 0]\n",
      " [0 0 1 1 1]\n",
      " [2 0 1 1 1]\n",
      " [2 0 0 1 1]]\n"
     ]
    }
   ],
   "source": [
    "#Step 2: Slice the Numeric Data Into Training and Test Samples\n",
    "split=10\n",
    "training_sample,test_sample=numeric_array[:split,:],numeric_array[split:,:]\n",
    "print(\"Training Sample \\n\", training_sample)\n",
    "print(\"Test Sample \\n\", test_sample)\n"
   ]
  },
  {
   "cell_type": "code",
   "execution_count": 626,
   "metadata": {},
   "outputs": [
    {
     "name": "stdout",
     "output_type": "stream",
     "text": [
      "Independent Variables\n",
      " [[0 3 1 1]\n",
      " [0 3 1 0]\n",
      " [2 3 1 0]\n",
      " [2 3 1 1]\n",
      " [2 2 1 0]\n",
      " [2 1 1 0]\n",
      " [2 1 1 0]\n",
      " [2 3 1 0]\n",
      " [1 2 0 1]\n",
      " [1 3 0 0]]\n",
      "Dependent Variables\n",
      " [1 1 1 1 1 1 0 0 0 0]\n"
     ]
    }
   ],
   "source": [
    "#Step 3: Splitting Into Input and Output\n",
    "X_Attributes_TrainingSample=training_sample[:,0:-1]\n",
    "Y_Attributes_TrainingSample=training_sample[:,-1]\n",
    "print(\"Independent Variables\\n\",X_Attributes_TrainingSample)\n",
    "print(\"Dependent Variables\\n\",Y_Attributes_TrainingSample)"
   ]
  },
  {
   "cell_type": "code",
   "execution_count": 627,
   "metadata": {},
   "outputs": [
    {
     "name": "stdout",
     "output_type": "stream",
     "text": [
      "Normalized Input Attributes:\n",
      "\n",
      "[[0.    0.905 0.302 0.302]\n",
      " [0.    0.949 0.316 0.   ]\n",
      " [0.535 0.802 0.267 0.   ]\n",
      " [0.516 0.775 0.258 0.258]\n",
      " [0.667 0.667 0.333 0.   ]\n",
      " [0.816 0.408 0.408 0.   ]\n",
      " [0.816 0.408 0.408 0.   ]\n",
      " [0.535 0.802 0.267 0.   ]\n",
      " [0.408 0.816 0.    0.408]\n",
      " [0.316 0.949 0.    0.   ]]\n"
     ]
    }
   ],
   "source": [
    "#Normalization\n",
    "#Don't normalize if you need to study outliers\n",
    "#Step 4\n",
    "normalized_X_attributes=preprocessing.normalize(X_Attributes_TrainingSample)\n",
    "#normalized_Y_attributes=preprocessing.normalize(Y_Attributes_TrainingSample)\n",
    "print(\"Normalized Input Attributes:\\n\")\n",
    "set_printoptions(precision=3)\n",
    "print(normalized_X_attributes)\n",
    "#print(\"Normalized Output Attributes:\\n\",normalized_Y_attributes)\n"
   ]
  },
  {
   "cell_type": "code",
   "execution_count": 628,
   "metadata": {},
   "outputs": [
    {
     "name": "stdout",
     "output_type": "stream",
     "text": [
      "Standized Attributes:\n",
      " [[-1.75   0.75   0.5    1.528]\n",
      " [-1.75   0.75   0.5   -0.655]\n",
      " [ 0.75   0.75   0.5   -0.655]\n",
      " [ 0.75   0.75   0.5    1.528]\n",
      " [ 0.75  -0.5    0.5   -0.655]\n",
      " [ 0.75  -1.75   0.5   -0.655]\n",
      " [ 0.75  -1.75   0.5   -0.655]\n",
      " [ 0.75   0.75   0.5   -0.655]\n",
      " [-0.5   -0.5   -2.     1.528]\n",
      " [-0.5    0.75  -2.    -0.655]]\n"
     ]
    },
    {
     "name": "stderr",
     "output_type": "stream",
     "text": [
      "C:\\Users\\User\\Anaconda3\\lib\\site-packages\\sklearn\\utils\\validation.py:595: DataConversionWarning: Data with input dtype int32 was converted to float64 by the scale function.\n",
      "  warnings.warn(msg, DataConversionWarning)\n"
     ]
    }
   ],
   "source": [
    "#Standardization\n",
    "#Step 5\n",
    "standardize_X=preprocessing.scale(X_Attributes_TrainingSample)\n",
    "print(\"Standized Attributes:\\n\",standardize_X)"
   ]
  },
  {
   "cell_type": "code",
   "execution_count": 629,
   "metadata": {},
   "outputs": [
    {
     "name": "stdout",
     "output_type": "stream",
     "text": [
      "n\\Binarized Attributes in Training Sample:\n",
      " [[0 1 0 0]\n",
      " [0 1 0 0]\n",
      " [1 1 0 0]\n",
      " [1 1 0 0]\n",
      " [1 1 0 0]\n",
      " [1 0 0 0]\n",
      " [1 0 0 0]\n",
      " [1 1 0 0]\n",
      " [0 1 0 0]\n",
      " [0 1 0 0]]\n"
     ]
    }
   ],
   "source": [
    "# Binarizing\n",
    "#Step 6\n",
    "from sklearn.preprocessing import Binarizer\n",
    "from numpy import set_printoptions\n",
    "Binarizer=Binarizer(threshold=1.0).fit(X_Attributes_TrainingSample)\n",
    "Binarized_X=Binarizer.transform(X_Attributes_TrainingSample)\n",
    "print(\"n\\Binarized Attributes in Training Sample:\\n\",Binarized_X)"
   ]
  },
  {
   "cell_type": "code",
   "execution_count": 630,
   "metadata": {
    "scrolled": true
   },
   "outputs": [
    {
     "name": "stdout",
     "output_type": "stream",
     "text": [
      "\n",
      " Decomposed Input Attributes: \n",
      " [[ 1.507 -0.52 ]\n",
      " [ 1.31  -0.379]\n",
      " [-0.094  0.903]\n",
      " [ 0.102  0.762]\n",
      " [-0.771  0.17 ]\n",
      " [-1.448 -0.562]\n",
      " [-1.448 -0.562]\n",
      " [-0.094  0.903]\n",
      " [ 0.227 -0.793]\n",
      " [ 0.708  0.079]]\n"
     ]
    }
   ],
   "source": [
    "#Decomposing/Compressing/PCA\n",
    "#Step 7\n",
    "from sklearn.decomposition import PCA\n",
    "from numpy import set_printoptions\n",
    "pca=PCA(n_components=2)\n",
    "pca.fit(X_Attributes_TrainingSample)\n",
    "decomposed_X_Attributes= pca.transform(X_Attributes_TrainingSample)\n",
    "print(\"\\n Decomposed Input Attributes: \\n\",decomposed_X_Attributes)"
   ]
  },
  {
   "cell_type": "code",
   "execution_count": 631,
   "metadata": {},
   "outputs": [
    {
     "data": {
      "text/plain": [
       "<function matplotlib.pyplot.show(*args, **kw)>"
      ]
     },
     "execution_count": 631,
     "metadata": {},
     "output_type": "execute_result"
    },
    {
     "data": {
      "image/png": "[encoded data removed]",
      "text/plain": [
       "<Figure size 432x288 with 1 Axes>"
      ]
     },
     "metadata": {},
     "output_type": "display_data"
    }
   ],
   "source": [
    "#visualising the array\n",
    "plt.scatter(decomposed_X_Attributes[:,0],decomposed_X_Attributes[:,1],label='True Position')\n",
    "plt.show"
   ]
  },
  {
   "cell_type": "code",
   "execution_count": 632,
   "metadata": {},
   "outputs": [
    {
     "name": "stdout",
     "output_type": "stream",
     "text": [
      "[[ 2.     7.     0.     2.   ]\n",
      " [ 5.     6.     0.     2.   ]\n",
      " [ 3.    10.     0.242  3.   ]\n",
      " [ 0.     1.     0.242  2.   ]\n",
      " [ 9.    13.     0.757  3.   ]\n",
      " [12.    14.     0.912  6.   ]\n",
      " [ 8.    15.     0.997  7.   ]\n",
      " [ 4.    16.     0.997  8.   ]\n",
      " [11.    17.     0.997 10.   ]]\n"
     ]
    }
   ],
   "source": [
    "Single_Linkage_matrix=linkage(decomposed_X_Attributes,'single')\n",
    "print(Single_Linkage_matrix)"
   ]
  },
  {
   "cell_type": "code",
   "execution_count": 633,
   "metadata": {
    "scrolled": true
   },
   "outputs": [
    {
     "name": "stdout",
     "output_type": "stream",
     "text": [
      "[[ 2.     7.     0.     2.   ]\n",
      " [ 5.     6.     0.     2.   ]\n",
      " [ 3.    10.     0.242  3.   ]\n",
      " [ 0.     1.     0.242  2.   ]\n",
      " [ 8.     9.     0.997  2.   ]\n",
      " [ 4.    11.     0.997  3.   ]\n",
      " [13.    14.     1.308  4.   ]\n",
      " [12.    15.     2.039  6.   ]\n",
      " [16.    17.     2.955 10.   ]]\n"
     ]
    }
   ],
   "source": [
    "Complete_Linkage_matrix=linkage(decomposed_X_Attributes,'complete')\n",
    "print(Complete_Linkage_matrix)"
   ]
  },
  {
   "cell_type": "code",
   "execution_count": 634,
   "metadata": {},
   "outputs": [
    {
     "name": "stdout",
     "output_type": "stream",
     "text": [
      "[[ 2.     7.     0.     2.   ]\n",
      " [ 5.     6.     0.     2.   ]\n",
      " [ 3.    10.     0.242  3.   ]\n",
      " [ 0.     1.     0.242  2.   ]\n",
      " [ 9.    13.     0.878  3.   ]\n",
      " [ 4.    11.     0.997  3.   ]\n",
      " [ 8.    14.     1.155  4.   ]\n",
      " [12.    16.     1.656  7.   ]\n",
      " [15.    17.     1.992 10.   ]]\n"
     ]
    }
   ],
   "source": [
    "Average_Linkage_matrix=linkage(decomposed_X_Attributes,'average')\n",
    "print(Average_Linkage_matrix)"
   ]
  },
  {
   "cell_type": "code",
   "execution_count": 635,
   "metadata": {},
   "outputs": [
    {
     "name": "stdout",
     "output_type": "stream",
     "text": [
      "[[ 2.     7.     0.     2.   ]\n",
      " [ 5.     6.     0.     2.   ]\n",
      " [ 3.    10.     0.242  3.   ]\n",
      " [ 0.     1.     0.242  2.   ]\n",
      " [ 9.    13.     0.878  3.   ]\n",
      " [ 4.    11.     0.997  3.   ]\n",
      " [ 8.    14.     1.081  4.   ]\n",
      " [12.    16.     1.587  7.   ]\n",
      " [15.    17.     1.804 10.   ]]\n"
     ]
    }
   ],
   "source": [
    "Centroid_Linkage_matrix=linkage(decomposed_X_Attributes,'centroid')\n",
    "print(Centroid_Linkage_matrix)"
   ]
  },
  {
   "cell_type": "code",
   "execution_count": 636,
   "metadata": {},
   "outputs": [
    {
     "name": "stdout",
     "output_type": "stream",
     "text": [
      "[[ 2.     7.     0.     2.   ]\n",
      " [ 5.     6.     0.     2.   ]\n",
      " [ 0.     1.     0.242  2.   ]\n",
      " [ 3.    10.     0.279  3.   ]\n",
      " [ 8.     9.     0.997  2.   ]\n",
      " [ 4.    11.     1.152  3.   ]\n",
      " [12.    14.     1.337  4.   ]\n",
      " [13.    15.     2.9    6.   ]\n",
      " [16.    17.     3.729 10.   ]]\n"
     ]
    }
   ],
   "source": [
    "Ward_matrix=linkage(decomposed_X_Attributes,'ward')\n",
    "print(Ward_matrix)"
   ]
  },
  {
   "cell_type": "code",
   "execution_count": 637,
   "metadata": {
    "scrolled": true
   },
   "outputs": [
    {
     "data": {
      "text/plain": [
       "<function matplotlib.pyplot.show(*args, **kw)>"
      ]
     },
     "execution_count": 637,
     "metadata": {},
     "output_type": "execute_result"
    },
    {
     "data": {
      "image/png": "[encoded data removed]",
      "text/plain": [
       "<Figure size 432x288 with 1 Axes>"
      ]
     },
     "metadata": {},
     "output_type": "display_data"
    }
   ],
   "source": [
    "Merged_clusters=dendrogram (Single_Linkage_matrix,truncate_mode=\"lastp\",p=20)\n",
    "#labeling Dendrogram\n",
    "plt.title('Dendrogram')\n",
    "plt.xlabel('Hiring Index')\n",
    "plt.ylabel('Euclidean distances')\n",
    "plt.show"
   ]
  },
  {
   "cell_type": "code",
   "execution_count": 638,
   "metadata": {},
   "outputs": [
    {
     "data": {
      "text/plain": [
       "<function matplotlib.pyplot.show(*args, **kw)>"
      ]
     },
     "execution_count": 638,
     "metadata": {},
     "output_type": "execute_result"
    },
    {
     "data": {
      "image/png": "[encoded data removed]",
      "text/plain": [
       "<Figure size 432x288 with 1 Axes>"
      ]
     },
     "metadata": {},
     "output_type": "display_data"
    }
   ],
   "source": [
    "Merged_clusters=dendrogram (Complete_Linkage_matrix,truncate_mode=\"lastp\",p=20)\n",
    "plt.title('Dendrogram')\n",
    "plt.xlabel('Hiring Index')\n",
    "plt.ylabel('Euclidean distances')\n",
    "plt.show"
   ]
  },
  {
   "cell_type": "code",
   "execution_count": 639,
   "metadata": {},
   "outputs": [
    {
     "data": {
      "text/plain": [
       "<function matplotlib.pyplot.show(*args, **kw)>"
      ]
     },
     "execution_count": 639,
     "metadata": {},
     "output_type": "execute_result"
    },
    {
     "data": {
      "image/png": "[encoded data removed]",
      "text/plain": [
       "<Figure size 432x288 with 1 Axes>"
      ]
     },
     "metadata": {},
     "output_type": "display_data"
    }
   ],
   "source": [
    "Merged_clusters=dendrogram (Average_Linkage_matrix,truncate_mode=\"lastp\",p=20)\n",
    "plt.title('Dendrogram')\n",
    "plt.xlabel('Hiring Index')\n",
    "plt.ylabel('Euclidean distances')\n",
    "plt.show"
   ]
  },
  {
   "cell_type": "code",
   "execution_count": 640,
   "metadata": {},
   "outputs": [
    {
     "data": {
      "text/plain": [
       "<function matplotlib.pyplot.show(*args, **kw)>"
      ]
     },
     "execution_count": 640,
     "metadata": {},
     "output_type": "execute_result"
    },
    {
     "data": {
      "image/png": "[encoded data removed]",
      "text/plain": [
       "<Figure size 432x288 with 1 Axes>"
      ]
     },
     "metadata": {},
     "output_type": "display_data"
    }
   ],
   "source": [
    "Merged_clusters=dendrogram (Centroid_Linkage_matrix,truncate_mode=\"lastp\",p=20)\n",
    "plt.title('Dendrogram')\n",
    "plt.xlabel('Hiring Index')\n",
    "plt.ylabel('Euclidean distances')\n",
    "plt.show"
   ]
  },
  {
   "cell_type": "code",
   "execution_count": 641,
   "metadata": {
    "scrolled": true
   },
   "outputs": [
    {
     "data": {
      "text/plain": [
       "<function matplotlib.pyplot.show(*args, **kw)>"
      ]
     },
     "execution_count": 641,
     "metadata": {},
     "output_type": "execute_result"
    },
    {
     "data": {
      "image/png": "[encoded data removed]",
      "text/plain": [
       "<Figure size 432x288 with 1 Axes>"
      ]
     },
     "metadata": {},
     "output_type": "display_data"
    }
   ],
   "source": [
    "Merged_clusters=dendrogram (Ward_matrix,truncate_mode=\"lastp\",p=20)\n",
    "plt.title('Dendrogram')\n",
    "plt.xlabel('Hiring Index')\n",
    "plt.ylabel('Euclidean distances')\n",
    "plt.show\n"
   ]
  },
  {
   "cell_type": "code",
   "execution_count": 642,
   "metadata": {
    "scrolled": true
   },
   "outputs": [
    {
     "data": {
      "text/plain": [
       "<function matplotlib.pyplot.show(*args, **kw)>"
      ]
     },
     "execution_count": 642,
     "metadata": {},
     "output_type": "execute_result"
    },
    {
     "data": {
      "image/png": "[encoded data removed]",
      "text/plain": [
       "<Figure size 432x288 with 1 Axes>"
      ]
     },
     "metadata": {},
     "output_type": "display_data"
    }
   ],
   "source": [
    "Merged_Clusters= dendrogram(Ward_matrix,truncate_mode=\"lastp\",p=20)\n",
    "\n",
    "plt.title('Dendrogram')\n",
    "plt.xlabel('Hiring Index')\n",
    "plt.ylabel('Euclidean distances')\n",
    "plt.show\n"
   ]
  },
  {
   "cell_type": "code",
   "execution_count": 643,
   "metadata": {},
   "outputs": [
    {
     "name": "stdout",
     "output_type": "stream",
     "text": [
      "[0 0 2 0 0 0 1 1 3]\n"
     ]
    }
   ],
   "source": [
    "#Predicting Cluster Assignments\n",
    "from sklearn.cluster import AgglomerativeClustering\n",
    "cluster=AgglomerativeClustering(n_clusters=4,affinity='euclidean',linkage='ward')\n",
    "cluster.fit_predict(Ward_matrix)\n",
    "print(cluster.labels_)"
   ]
  },
  {
   "cell_type": "code",
   "execution_count": 644,
   "metadata": {},
   "outputs": [
    {
     "data": {
      "text/plain": [
       "<matplotlib.collections.PathCollection at 0x17466fc0ba8>"
      ]
     },
     "execution_count": 644,
     "metadata": {},
     "output_type": "execute_result"
    },
    {
     "data": {
      "image/png": "[encoded data removed]",
      "text/plain": [
       "<Figure size 432x288 with 1 Axes>"
      ]
     },
     "metadata": {},
     "output_type": "display_data"
    }
   ],
   "source": [
    "plt.scatter(Ward_matrix[:,0],Ward_matrix[:,1],c=cluster.labels_, cmap='rainbow')"
   ]
  }
 ],
 "metadata": {
  "kernelspec": {
   "display_name": "Python 3",
   "language": "python",
   "name": "python3"
  },
  "language_info": {
   "codemirror_mode": {
    "name": "ipython",
    "version": 3
   },
   "file_extension": ".py",
   "mimetype": "text/x-python",
   "name": "python",
   "nbconvert_exporter": "python",
   "pygments_lexer": "ipython3",
   "version": "3.7.3"
  }
 },
 "nbformat": 4,
 "nbformat_minor": 2
}
