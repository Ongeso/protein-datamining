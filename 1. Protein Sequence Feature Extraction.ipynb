{
 "cells": [
  {
   "cell_type": "code",
   "execution_count": 1,
   "metadata": {},
   "outputs": [],
   "source": [
    "from Bio.SeqUtils.ProtParam import ProteinAnalysis\n",
    "import numpy as numpy\n",
    "import pandas as pd\n",
    "from sklearn import preprocessing\n",
    "\n",
    "\n",
    "path='C:/Users/User/Desktop/Data/datafinale.csv'\n",
    "attributes=['Seq_ID','myseq']\n",
    "data=pd.read_csv(path, names=attributes)\n",
    "\n",
    "Seq_ID=\"seqid\"\n",
    "myseq=\"seq\"\n"
   ]
  },
  {
   "cell_type": "code",
   "execution_count": 2,
   "metadata": {},
   "outputs": [
    {
     "name": "stdout",
     "output_type": "stream",
     "text": [
      "240715.74479999862\n",
      "20666.926999999996\n",
      "29598.059299999994\n"
     ]
    }
   ],
   "source": [
    "#initialising Protein analysis of protein sequence held in my_seq variable\n",
    "analysed_seq= ProteinAnalysis(my_seq)\n",
    "\n",
    "\n",
    "# 1. Analysing Protein's Molecular Weight\n",
    "mw=analysed_seq.molecular_weight()\n",
    "\n",
    "\n",
    "print(mw)\n",
    "print(mw)\n",
    "print(mw)"
   ]
  },
  {
   "cell_type": "code",
   "execution_count": 3,
   "metadata": {},
   "outputs": [
    {
     "name": "stdout",
     "output_type": "stream",
     "text": [
      "-0.37157798999545455\n",
      "-0.44530386740331507\n",
      "0.1153571428571429\n"
     ]
    }
   ],
   "source": [
    "#2. Analysing Protein's Gravity\n",
    "analysed_seq.gravy()\n",
    "\n",
    "print(gravity)\n",
    "print(gravity)\n",
    "print(gravity)"
   ]
  },
  {
   "cell_type": "code",
   "execution_count": 4,
   "metadata": {},
   "outputs": [
    {
     "name": "stdout",
     "output_type": "stream",
     "text": [
      "0.07276034561164166\n",
      "0.15469613259668508\n",
      "0.0892857142857143\n"
     ]
    }
   ],
   "source": [
    "# 3. Analysing Protein's Aromaticity\n",
    "analysed_seq1.aromaticity()\n",
    "\n",
    "print(aroma)\n",
    "print(aroma)\n",
    "print(aroma)"
   ]
  },
  {
   "cell_type": "code",
   "execution_count": 5,
   "metadata": {},
   "outputs": [
    {
     "name": "stdout",
     "output_type": "stream",
     "text": [
      "33.618103683492855\n",
      "30.209392265193365\n",
      "24.677499999999984\n"
     ]
    }
   ],
   "source": [
    "# 4. Analysing Protein's Instability Index\n",
    "analysed_seq.instability_index()\n",
    "\n",
    "print(instability)\n",
    "print(instability)\n",
    "print(instability)\n",
    "\n"
   ]
  },
  {
   "cell_type": "code",
   "execution_count": 6,
   "metadata": {},
   "outputs": [
    {
     "name": "stdout",
     "output_type": "stream",
     "text": [
      "4.79864501953125\n",
      "6.88800048828125\n",
      "4.48944091796875\n"
     ]
    }
   ],
   "source": [
    "# 5. Analysing Protein's Isoelectric Point\n",
    "analysed_seq.isoelectric_point()\n",
    "\n",
    "\n",
    "print(ip)\n",
    "print(ip)\n",
    "print(ip)\n"
   ]
  },
  {
   "cell_type": "code",
   "execution_count": 7,
   "metadata": {},
   "outputs": [
    {
     "name": "stdout",
     "output_type": "stream",
     "text": [
      "(0.2633015006821282, 0.24511141427921784, 0.23192360163710776)\n",
      "(0.3314917127071823, 0.2596685082872928, 0.1712707182320442)\n",
      "(0.3357142857142857, 0.29285714285714287, 0.22142857142857145)\n"
     ]
    }
   ],
   "source": [
    "# 6. Analysing Protein's Secondary Structure Fraction\n",
    "analysed_seq1.secondary_structure_fraction()\n",
    "\n",
    "\n",
    "print(secondary)\n",
    "print(secondary)\n",
    "print(secondary)"
   ]
  },
  {
   "cell_type": "code",
   "execution_count": 8,
   "metadata": {},
   "outputs": [
    {
     "name": "stdout",
     "output_type": "stream",
     "text": [
      "  Sequence_ID  Molecular_Weight   Gravity  Aromaticity  Instability_Index  \\\n",
      "0  TENA_HUMAN       240715.7448 -0.371578     0.072760          33.618104   \n",
      "1  CRC1_HOMGA        20666.9270 -0.445304     0.154696          30.209392   \n",
      "2  TRYZ_DROME        29598.0593  0.115357     0.089286          24.677500   \n",
      "3  CFAI_HUMAN        65719.6216 -0.316467     0.101201          38.807753   \n",
      "4  UN52_CAEEL       270811.8610 -0.580854     0.065296          39.862922   \n",
      "5  EP45_XENLA        49570.1309 -0.372018     0.089450          37.664243   \n",
      "6  PSPB_HUMAN        42116.7654  0.018898     0.049869          58.322310   \n",
      "7  SPRC_CAEEL        30172.3330 -0.637500     0.060606          39.723106   \n",
      "8  STAT_HUMAN         7304.3802 -0.196774     0.209677          65.698387   \n",
      "\n",
      "   Isoelectric_Point                                Secondary Structure  \n",
      "0           4.798645  (0.2633015006821282, 0.24511141427921784, 0.23...  \n",
      "1           6.888000  (0.3314917127071823, 0.2596685082872928, 0.171...  \n",
      "2           4.489441  (0.3357142857142857, 0.29285714285714287, 0.22...  \n",
      "3           7.719910  (0.2864493996569468, 0.21269296740994853, 0.18...  \n",
      "4           5.272034  (0.237807335751713, 0.2833534864973801, 0.1902...  \n",
      "5           7.794128  (0.3119266055045872, 0.2247706422018349, 0.254...  \n",
      "6           5.269836  (0.29396325459317585, 0.2125984251968504, 0.30...  \n",
      "7           5.216980  (0.24242424242424243, 0.17424242424242425, 0.3...  \n",
      "8           8.006287  (0.3870967741935483, 0.24193548387096775, 0.22...  \n"
     ]
    }
   ],
   "source": [
    "# Creating A Data Frame\n",
    "data=[[Seq_ID,mw,gravity,aroma,instability,ip,secondary]]\n",
    "df=pd.DataFrame(data,columns=['Sequence_ID','Molecular_Weight','Gravity','Aromaticity','Instability_Index','Isoelectric_Point','Secondary Structure'], dtype=float)\n",
    "print (df)\n",
    "df.to_csv(r'C:\\Users\\User\\Desktop\\Data\\extracellularX.csv')\n",
    "#appending *"
   ]
  }
 ],
 "metadata": {
  "kernelspec": {
   "display_name": "Python 3",
   "language": "python",
   "name": "python3"
  },
  "language_info": {
   "codemirror_mode": {
    "name": "ipython",
    "version": 3
   },
   "file_extension": ".py",
   "mimetype": "text/x-python",
   "name": "python",
   "nbconvert_exporter": "python",
   "pygments_lexer": "ipython3",
   "version": "3.7.3"
  }
 },
 "nbformat": 4,
 "nbformat_minor": 2
}
