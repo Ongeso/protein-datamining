{
 "cells": [
  {
   "cell_type": "markdown",
   "metadata": {},
   "source": [
    "# 1. Importing necessary libraries"
   ]
  },
  {
   "cell_type": "code",
   "execution_count": 1,
   "metadata": {},
   "outputs": [],
   "source": [
    "import pandas as pd# fro preparing dataframe\n",
    "import numpy as np\n",
    "import matplotlib.pyplot as plt # for visualizing clusters\n",
    "from matplotlib import style\n",
    "style.use(\"ggplot\") # choosing the style for visualising clusters\n",
    "from scipy.cluster.hierarchy import linkage,dendrogram #descriptive analytic \n",
    "from sklearn.cluster import KMeans #Descriptive analytic algorithm\n",
    "from sklearn import preprocessing # for preparing data\n",
    "from sklearn.preprocessing import Normalizer # For Normalizing data\n",
    "from numpy import set_printoptions # for limiting number decimals\n",
    "from sklearn.decomposition import PCA # for reducing attributes\n",
    "from sklearn.model_selection import train_test_split\n",
    "import seaborn as sns; sns.set()"
   ]
  },
  {
   "cell_type": "markdown",
   "metadata": {},
   "source": [
    "# 2. Extracting data"
   ]
  },
  {
   "cell_type": "code",
   "execution_count": 2,
   "metadata": {},
   "outputs": [
    {
     "name": "stdout",
     "output_type": "stream",
     "text": [
      "      Molecular_Weight   Gravity  Aromaticity  Instability  Isoelectic_Point  \\\n",
      "0           93323.4594 -0.213571     0.075000    33.803119          5.995056   \n",
      "1           27949.8955 -0.740000     0.077551    48.864980          4.799377   \n",
      "2           17453.7134 -0.450327     0.098039    37.247124          6.489685   \n",
      "3           35268.1468 -0.009366     0.063444    30.649245          8.177429   \n",
      "4           25718.5138 -0.406912     0.142857    36.475576          8.082214   \n",
      "5          120634.5465 -0.098273     0.088182    34.071391          6.960754   \n",
      "6          250774.6466 -0.300983     0.082700    40.815919          5.869080   \n",
      "7           36569.4096 -0.055917     0.082840    19.513609          7.596985   \n",
      "8           25318.1366 -0.447727     0.081818    37.295909          8.694397   \n",
      "9           48297.1855 -0.343678     0.071264    33.785310          8.733215   \n",
      "10          42137.1258 -0.597855     0.107239    44.941019          6.640320   \n",
      "11          58065.7220  0.008534     0.025974    36.706122          8.237488   \n",
      "12          16341.0380 -0.317089     0.031646    17.428481          6.482849   \n",
      "13          33219.9612 -0.600000     0.094077    33.946725          4.859436   \n",
      "14         122943.1471 -0.599912     0.063717    52.134345          8.797913   \n",
      "15          21898.8698 -0.076119     0.084577    47.526368          6.146667   \n",
      "16          11006.3533 -0.677551     0.081633    22.532653          5.381409   \n",
      "17          38628.8645 -0.003039     0.049724    31.969890          5.093323   \n",
      "18          38753.1242 -0.441369     0.110119    39.405357          9.241882   \n",
      "19          35537.1575 -0.203537     0.115756    27.675595          5.232727   \n",
      "20          34582.6007 -0.087459     0.099010    42.583531          7.625671   \n",
      "21          78735.5332 -0.370597     0.056818    41.267060          7.674866   \n",
      "22          17931.1049 -0.440127     0.089172    51.863057          6.475037   \n",
      "23          40572.7769 -0.497222     0.066667    54.905000          6.199280   \n",
      "24          47250.7644 -0.175346     0.064516    42.966129          6.183533   \n",
      "25          28960.0173 -0.586486     0.104247    30.166409          6.519714   \n",
      "26          80005.5000 -0.425286     0.107143    41.548729          4.917419   \n",
      "27         137415.6898 -0.225518     0.080365    43.039031          5.435608   \n",
      "28          64148.8643 -0.220280     0.082168    39.732360          5.789490   \n",
      "29         249235.0952 -0.311002     0.077370    48.303676          8.509827   \n",
      "...                ...       ...          ...          ...               ...   \n",
      "1445        32200.5311 -0.946853     0.048951    41.974476          4.289856   \n",
      "1446       100280.6297 -0.511250     0.089773    48.752739          6.644714   \n",
      "1447        47262.0882 -0.482911     0.052743    56.732911          6.872620   \n",
      "1448        70191.2588 -0.813756     0.043277    54.817496          9.326233   \n",
      "1449        64551.2677 -0.329401     0.093310    44.222905          7.947693   \n",
      "1450        68510.3554 -0.567395     0.053042    41.667239          7.029114   \n",
      "1451       167713.9547 -1.075627     0.033208    58.539919          8.218079   \n",
      "1452       126980.4633 -0.108860     0.078070    38.454921          5.140808   \n",
      "1453        16280.2646 -1.671212     0.068182   176.922727         12.029114   \n",
      "1454       135740.1172 -0.390607     0.092269    38.801837          7.561218   \n",
      "1455        65838.6424 -0.397083     0.061588    69.249773          9.704407   \n",
      "1456        43239.2891 -1.273421     0.055263    51.984474          9.358215   \n",
      "1457        57506.1524 -0.535359     0.079190    75.689687          8.505554   \n",
      "1458       150879.7794 -0.606100     0.058824    53.412869          8.892639   \n",
      "1459       110978.0475 -0.611782     0.059416    67.647855          6.908508   \n",
      "1460        72977.1360 -0.666921     0.099085    47.089497          6.049744   \n",
      "1461        37606.2130 -0.788855     0.081325    48.954518          5.444397   \n",
      "1462        74784.4435 -0.879795     0.045388    45.388726          6.196960   \n",
      "1463         8277.6267 -0.272857     0.085714    51.754286          7.653137   \n",
      "1464        41238.5969 -0.754701     0.085470    49.542735          6.137878   \n",
      "1465        36990.2056 -1.058187     0.070175    64.677485          9.945374   \n",
      "1466        31361.8728 -0.461348     0.070922    48.692553          4.740173   \n",
      "1467        27871.7699 -1.063750     0.091667    81.784208          9.093567   \n",
      "1468        24425.1972 -0.667111     0.022222    51.563556          7.973328   \n",
      "1469        79774.1660 -0.908745     0.062059    56.718054          8.861389   \n",
      "1470        81748.5311 -1.143912     0.046512    40.067579          4.860535   \n",
      "1471        29119.2670 -0.536111     0.099206    58.509921          5.039734   \n",
      "1472        43108.0134 -0.869110     0.070681    55.936911          6.387146   \n",
      "1473        11475.8364 -1.390909     0.080808    58.290909          9.895569   \n",
      "1474        13916.1114 -0.434127     0.039683    25.568254         10.327454   \n",
      "\n",
      "     Compartment  \n",
      "0        Cytosol  \n",
      "1        Cytosol  \n",
      "2        Cytosol  \n",
      "3        Cytosol  \n",
      "4        Cytosol  \n",
      "5        Cytosol  \n",
      "6        Cytosol  \n",
      "7        Cytosol  \n",
      "8        Cytosol  \n",
      "9        Cytosol  \n",
      "10       Cytosol  \n",
      "11       Cytosol  \n",
      "12       Cytosol  \n",
      "13       Cytosol  \n",
      "14       Cytosol  \n",
      "15       Cytosol  \n",
      "16       Cytosol  \n",
      "17       Cytosol  \n",
      "18       Cytosol  \n",
      "19       Cytosol  \n",
      "20       Cytosol  \n",
      "21       Cytosol  \n",
      "22       Cytosol  \n",
      "23       Cytosol  \n",
      "24       Cytosol  \n",
      "25       Cytosol  \n",
      "26       Cytosol  \n",
      "27       Cytosol  \n",
      "28       Cytosol  \n",
      "29       Cytosol  \n",
      "...          ...  \n",
      "1445     Nucleus  \n",
      "1446     Nucleus  \n",
      "1447     Nucleus  \n",
      "1448     Nucleus  \n",
      "1449     Nucleus  \n",
      "1450     Nucleus  \n",
      "1451     Nucleus  \n",
      "1452     Nucleus  \n",
      "1453     Nucleus  \n",
      "1454     Nucleus  \n",
      "1455     Nucleus  \n",
      "1456     Nucleus  \n",
      "1457     Nucleus  \n",
      "1458     Nucleus  \n",
      "1459     Nucleus  \n",
      "1460     Nucleus  \n",
      "1461     Nucleus  \n",
      "1462     Nucleus  \n",
      "1463     Nucleus  \n",
      "1464     Nucleus  \n",
      "1465     Nucleus  \n",
      "1466     Nucleus  \n",
      "1467     Nucleus  \n",
      "1468     Nucleus  \n",
      "1469     Nucleus  \n",
      "1470     Nucleus  \n",
      "1471     Nucleus  \n",
      "1472     Nucleus  \n",
      "1473     Nucleus  \n",
      "1474     Nucleus  \n",
      "\n",
      "[1475 rows x 6 columns]\n"
     ]
    }
   ],
   "source": [
    "path='C:/Users/User/Desktop/Data/datafinale.csv'\n",
    "attributes=['Molecular_Weight','Gravity','Aromaticity','Instability','Isoelectic_Point','Compartment']\n",
    "data=pd.read_csv(path, names=attributes)\n",
    "print(data)"
   ]
  },
  {
   "cell_type": "markdown",
   "metadata": {},
   "source": [
    "# 3. Understanding Data"
   ]
  },
  {
   "cell_type": "code",
   "execution_count": 3,
   "metadata": {},
   "outputs": [
    {
     "name": "stdout",
     "output_type": "stream",
     "text": [
      "       Molecular_Weight      Gravity  Aromaticity  Instability  \\\n",
      "count        1475.00000  1475.000000  1475.000000  1475.000000   \n",
      "mean        58000.18511    -0.505198     0.074698    47.049551   \n",
      "std         47394.06149     0.360483     0.027155    17.962127   \n",
      "min          5966.91840    -2.657143     0.000000    -6.006803   \n",
      "25%         29681.29515    -0.687294     0.057268    37.276526   \n",
      "50%         46481.27160    -0.473278     0.073846    44.776744   \n",
      "75%         71091.88025    -0.281112     0.090040    54.921842   \n",
      "max        538812.43550     1.224138     0.227586   296.409091   \n",
      "\n",
      "       Isoelectic_Point  \n",
      "count       1475.000000  \n",
      "mean           7.311856  \n",
      "std            1.839831  \n",
      "min            3.605530  \n",
      "25%            5.760193  \n",
      "50%            6.895813  \n",
      "75%            8.871643  \n",
      "max           13.366028  \n"
     ]
    }
   ],
   "source": [
    "print(data.describe())"
   ]
  },
  {
   "cell_type": "markdown",
   "metadata": {},
   "source": [
    "# 4. Split Input and Output Features"
   ]
  },
  {
   "cell_type": "code",
   "execution_count": 4,
   "metadata": {},
   "outputs": [
    {
     "name": "stdout",
     "output_type": "stream",
     "text": [
      "Training Set\n",
      "      Molecular_Weight   Gravity  Aromaticity  Instability  Isoelectic_Point  \\\n",
      "1015        33329.2898 -0.259517     0.033233    45.541994          9.632019   \n",
      "347         83465.6305 -0.313352     0.178977    42.173977          6.038513   \n",
      "1324        58320.2209 -0.802857     0.051429    60.343619          8.489685   \n",
      "682         46342.5275 -0.296905     0.095238    39.080500          8.287903   \n",
      "945         17393.5577 -0.706918     0.056604    76.659182          9.715027   \n",
      "658         29789.1132 -0.423792     0.078067    31.026022         10.234070   \n",
      "1139        63028.6796 -0.844528     0.107547    57.322830          6.068542   \n",
      "391         24144.7425 -0.292891     0.137441    38.633649          9.000549   \n",
      "1268        37370.5698 -0.625698     0.050279    60.878799          7.252136   \n",
      "116         20009.0449 -0.776879     0.098266    44.145087          5.162170   \n",
      "104         44019.4249 -0.312437     0.086294    30.765736          8.567566   \n",
      "1198        54192.9691 -0.186752     0.115385    48.495727          7.474792   \n",
      "770         98778.3589 -0.637327     0.062212    53.138134          5.025085   \n",
      "379         22796.7124 -0.211628     0.074419    42.209767          5.771912   \n",
      "472         45204.7777 -0.421182     0.091133    32.934483          6.126404   \n",
      "1179       147936.2115 -0.667047     0.068493    47.066530          8.870422   \n",
      "1027       196408.3725 -1.056341     0.070134    56.713741          6.990784   \n",
      "1353        57078.6724 -0.919604     0.075248    46.914673          4.590271   \n",
      "351         71544.1624 -0.425201     0.104334    39.430369          5.437073   \n",
      "293         63366.9631 -0.394643     0.091071    37.913214          8.958801   \n",
      "551         35997.7997 -0.722013     0.062893    39.266352          9.798645   \n",
      "825         35564.1233 -0.494212     0.070740    29.692958          5.601257   \n",
      "717         35079.1508  0.145946     0.054054    27.451652          8.617615   \n",
      "1236       135239.0675 -0.798104     0.056884    54.364551          5.217834   \n",
      "1308        36091.3687 -0.550145     0.066667    62.646696          8.552185   \n",
      "91          14674.4270 -0.369697     0.075758    12.546970          5.689148   \n",
      "859         54539.4259 -0.530480     0.106472    52.059708          4.798157   \n",
      "690         74935.8724 -0.256914     0.069869    38.754323          8.591003   \n",
      "336         48539.8659 -0.255305     0.112867    22.146727          5.981018   \n",
      "23          40572.7769 -0.497222     0.066667    54.905000          6.199280   \n",
      "...                ...       ...          ...          ...               ...   \n",
      "255         94545.7644 -0.230200     0.079906    30.142444          6.097229   \n",
      "892         34892.4543 -0.694311     0.038922    47.335329          5.765564   \n",
      "359         11174.8860 -0.084000     0.080000    27.226000          6.269470   \n",
      "51          14933.0010 -0.354135     0.075188    25.120301          6.192322   \n",
      "875         25524.0141 -1.647511     0.058824   131.996380         11.860291   \n",
      "938         32133.5926 -1.325632     0.083032    59.904368          4.121155   \n",
      "772         28225.4627 -1.090775     0.055351    64.198893          8.201721   \n",
      "1126        39955.9471 -0.465691     0.066489    68.134335          9.444763   \n",
      "1219        41597.0355 -0.333596     0.062992    34.010787          8.097107   \n",
      "679         31279.9142 -0.045172     0.068966    25.629345          8.040466   \n",
      "805         53893.9848 -0.562924     0.114407    50.464831          5.333191   \n",
      "124        347855.5609 -0.068543     0.060115    56.261791          5.808044   \n",
      "404         35601.8875 -0.464537     0.079872    68.157189          5.880066   \n",
      "730         13932.3471 -0.636975     0.092437    37.616050         10.322449   \n",
      "1311        67501.3782 -0.580207     0.104991    48.204303          7.981384   \n",
      "831         85002.0140 -0.676127     0.062334    48.833037          8.271912   \n",
      "1071        27979.2742 -0.564844     0.074219    75.103203          8.860291   \n",
      "725         22039.9980 -0.191787     0.077295    26.147343          9.485779   \n",
      "587         39623.0669  0.016120     0.076503    31.764754          6.038757   \n",
      "607         10881.5528 -0.337755     0.051020    31.558265         10.241638   \n",
      "433         28122.4093 -0.646835     0.105485    68.171772          5.727844   \n",
      "674         11617.3991 -0.730769     0.086538    11.389423          9.587219   \n",
      "1287        27155.1984 -0.828279     0.061475    57.818033          8.800354   \n",
      "360         27869.6792  0.156274     0.079848    32.796198          6.788879   \n",
      "1099        31015.7140 -0.525952     0.031142    35.921453          9.372253   \n",
      "466         92340.8609 -0.415810     0.226614    36.038300          5.591492   \n",
      "299        102726.0835 -0.422901     0.073064    48.007197          5.258850   \n",
      "493         20666.9270 -0.445304     0.154696    30.209392          6.888000   \n",
      "527         60234.0316 -0.184934     0.103578    49.519416          9.045593   \n",
      "1192        46867.0130 -0.361163     0.065116    61.614884          7.635315   \n",
      "\n",
      "        Compartment  \n",
      "1015        Nucleus  \n",
      "347   Extracellular  \n",
      "1324        Nucleus  \n",
      "682    Mitochondria  \n",
      "945         Nucleus  \n",
      "658    Mitochondria  \n",
      "1139        Nucleus  \n",
      "391   Extracellular  \n",
      "1268        Nucleus  \n",
      "116         Cytosol  \n",
      "104         Cytosol  \n",
      "1198        Nucleus  \n",
      "770         Nucleus  \n",
      "379   Extracellular  \n",
      "472   Extracellular  \n",
      "1179        Nucleus  \n",
      "1027        Nucleus  \n",
      "1353        Nucleus  \n",
      "351   Extracellular  \n",
      "293         Cytosol  \n",
      "551    Mitochondria  \n",
      "825         Nucleus  \n",
      "717    Mitochondria  \n",
      "1236        Nucleus  \n",
      "1308        Nucleus  \n",
      "91          Cytosol  \n",
      "859         Nucleus  \n",
      "690    Mitochondria  \n",
      "336         Cytosol  \n",
      "23          Cytosol  \n",
      "...             ...  \n",
      "255         Cytosol  \n",
      "892         Nucleus  \n",
      "359   Extracellular  \n",
      "51          Cytosol  \n",
      "875         Nucleus  \n",
      "938         Nucleus  \n",
      "772         Nucleus  \n",
      "1126        Nucleus  \n",
      "1219        Nucleus  \n",
      "679    Mitochondria  \n",
      "805         Nucleus  \n",
      "124         Cytosol  \n",
      "404   Extracellular  \n",
      "730    Mitochondria  \n",
      "1311        Nucleus  \n",
      "831         Nucleus  \n",
      "1071        Nucleus  \n",
      "725    Mitochondria  \n",
      "587    Mitochondria  \n",
      "607    Mitochondria  \n",
      "433   Extracellular  \n",
      "674    Mitochondria  \n",
      "1287        Nucleus  \n",
      "360   Extracellular  \n",
      "1099        Nucleus  \n",
      "466   Extracellular  \n",
      "299         Cytosol  \n",
      "493   Extracellular  \n",
      "527    Mitochondria  \n",
      "1192        Nucleus  \n",
      "\n",
      "[1032 rows x 6 columns]\n",
      "Testing Sample\n",
      "      Molecular_Weight   Gravity  Aromaticity  Instability  Isoelectic_Point  \\\n",
      "1378        50667.4842 -0.383482     0.071429    57.731027          5.698669   \n",
      "803         55461.9333 -0.706627     0.048193    72.298594          6.154602   \n",
      "1201       100591.0879 -0.758621     0.052280    50.913704          6.465759   \n",
      "1449        64551.2677 -0.329401     0.093310    44.222905          7.947693   \n",
      "137         30596.7137 -0.348913     0.061594    40.028986          7.605164   \n",
      "58          29691.1512 -0.241538     0.084615    44.381154          6.679749   \n",
      "694          9483.2069 -1.650602     0.084337    32.651807          7.928650   \n",
      "477         45627.4603 -0.302670     0.116505    31.705388          5.157410   \n",
      "719         36850.8276 -0.637107     0.084906    49.528365          9.084656   \n",
      "505         64040.4783 -0.356771     0.067708    29.387153          6.768738   \n",
      "68         262716.6034 -0.249355     0.085628    41.296958          6.019836   \n",
      "365         31361.4164 -0.840532     0.043189    31.853156          5.042297   \n",
      "532         38252.2597 -0.491066     0.083573    41.794841          9.612610   \n",
      "1260        16622.0590 -0.135404     0.012422    65.856522          8.685486   \n",
      "920        160468.6003 -0.563084     0.069086    38.272380          9.109070   \n",
      "960         67236.4508 -0.468631     0.042994    62.076274          5.756653   \n",
      "287         10414.4980 -0.378495     0.086022     8.243011          4.389832   \n",
      "1053        32561.9829 -0.267340     0.067340    48.340741          5.895813   \n",
      "145        144956.9247 -0.242654     0.102686    39.984060          5.862976   \n",
      "711         19959.6638 -0.716959     0.093567    48.658480          8.268127   \n",
      "853         30084.2487 -0.370189     0.105660    55.389849          9.387756   \n",
      "994         28644.8579 -0.665299     0.052239    52.592201          6.855774   \n",
      "455         24118.8248 -0.550704     0.070423    82.913615          6.545471   \n",
      "988         92925.2679 -0.947394     0.056970    46.886558          4.775208   \n",
      "157         24254.4810 -0.425225     0.045045    34.132477          5.982361   \n",
      "462         23727.5576 -0.508597     0.131222    24.169231          9.018250   \n",
      "1390        13815.6213 -0.209016     0.073770    54.417213          4.714661   \n",
      "101         12211.8882  0.072807     0.070175    27.609649          8.179749   \n",
      "1052        34991.5207 -0.611799     0.073746    68.106785          9.106750   \n",
      "370         69292.6835 -0.428995     0.088962    40.280577          5.822693   \n",
      "...                ...       ...          ...          ...               ...   \n",
      "270         15732.9967 -0.068707     0.074830    -6.006803          8.531311   \n",
      "568         29800.5786 -0.390734     0.135135    31.251853         10.452454   \n",
      "1224        19830.3955 -0.644737     0.021053    30.374737         10.805481   \n",
      "1061        94194.6958 -0.740525     0.057078    62.105365          8.170959   \n",
      "470         45149.5313 -0.072577     0.068558    48.271229          5.203674   \n",
      "677         61568.5607 -0.416231     0.093284    45.587332          9.180603   \n",
      "201         51469.9811 -0.466591     0.097065    50.218578          6.547180   \n",
      "265         19999.7365  0.224309     0.104972    41.579006          4.835999   \n",
      "1227        28240.4248 -1.039256     0.119835    75.650413          9.989807   \n",
      "1415       122475.0779 -0.510444     0.078558    56.360564          8.627258   \n",
      "399         14018.6149 -0.544800     0.024000    40.965600         10.388733   \n",
      "959         12879.3325 -2.015686     0.039216   150.925490         11.782532   \n",
      "279         51568.8020 -0.088285     0.062762    41.466946          7.715515   \n",
      "301         47246.6488 -0.237383     0.053738    25.517290          6.432922   \n",
      "460         35881.4062 -0.490066     0.076159    80.838146          6.484558   \n",
      "1094        23866.8822 -0.975000     0.088235    61.712255          9.622131   \n",
      "28          64148.8643 -0.220280     0.082168    39.732360          5.789490   \n",
      "129         26194.3286 -0.137719     0.118421    36.773684          9.058167   \n",
      "240         50466.2369 -0.284327     0.075055    46.767130          6.475891   \n",
      "542         84387.4355 -0.270056     0.118384    38.083593          9.123352   \n",
      "618         47669.0538 -0.227442     0.083721    37.054674          7.282410   \n",
      "826         46304.0845 -0.662195     0.065854    54.210488          9.446106   \n",
      "465         87240.8380 -0.189960     0.105756    47.279116          6.779358   \n",
      "851         48939.6754 -0.653761     0.064159    67.257965          9.420227   \n",
      "1153        56204.0567 -0.374633     0.117400    44.845702          9.183167   \n",
      "1092        39870.4805 -0.580109     0.054496    54.145504          8.937683   \n",
      "557        106216.1121 -0.158564     0.058462    35.864933          8.789978   \n",
      "705         59506.7141 -0.110507     0.075047    35.154409          8.506409   \n",
      "1466        31361.8728 -0.461348     0.070922    48.692553          4.740173   \n",
      "126         81749.0863 -0.264754     0.073770    53.492623          7.766907   \n",
      "\n",
      "        Compartment  \n",
      "1378        Nucleus  \n",
      "803         Nucleus  \n",
      "1201        Nucleus  \n",
      "1449        Nucleus  \n",
      "137         Cytosol  \n",
      "58          Cytosol  \n",
      "694    Mitochondria  \n",
      "477   Extracellular  \n",
      "719    Mitochondria  \n",
      "505    Mitochondria  \n",
      "68          Cytosol  \n",
      "365   Extracellular  \n",
      "532    Mitochondria  \n",
      "1260        Nucleus  \n",
      "920         Nucleus  \n",
      "960         Nucleus  \n",
      "287         Cytosol  \n",
      "1053        Nucleus  \n",
      "145         Cytosol  \n",
      "711    Mitochondria  \n",
      "853         Nucleus  \n",
      "994         Nucleus  \n",
      "455   Extracellular  \n",
      "988         Nucleus  \n",
      "157         Cytosol  \n",
      "462   Extracellular  \n",
      "1390        Nucleus  \n",
      "101         Cytosol  \n",
      "1052        Nucleus  \n",
      "370   Extracellular  \n",
      "...             ...  \n",
      "270         Cytosol  \n",
      "568    Mitochondria  \n",
      "1224        Nucleus  \n",
      "1061        Nucleus  \n",
      "470   Extracellular  \n",
      "677    Mitochondria  \n",
      "201         Cytosol  \n",
      "265         Cytosol  \n",
      "1227        Nucleus  \n",
      "1415        Nucleus  \n",
      "399   Extracellular  \n",
      "959         Nucleus  \n",
      "279         Cytosol  \n",
      "301         Cytosol  \n",
      "460   Extracellular  \n",
      "1094        Nucleus  \n",
      "28          Cytosol  \n",
      "129         Cytosol  \n",
      "240         Cytosol  \n",
      "542    Mitochondria  \n",
      "618    Mitochondria  \n",
      "826         Nucleus  \n",
      "465   Extracellular  \n",
      "851         Nucleus  \n",
      "1153        Nucleus  \n",
      "1092        Nucleus  \n",
      "557    Mitochondria  \n",
      "705    Mitochondria  \n",
      "1466        Nucleus  \n",
      "126         Cytosol  \n",
      "\n",
      "[443 rows x 6 columns]\n"
     ]
    }
   ],
   "source": [
    "TrainingSample,TestSample=train_test_split(data, test_size=0.3, random_state=2 ) #default is 25% starts at row number 2\n",
    "print (\"Training Set\")\n",
    "print(TrainingSample)\n",
    "print(\"Testing Sample\")\n",
    "print(TestSample)"
   ]
  },
  {
   "cell_type": "markdown",
   "metadata": {},
   "source": [
    "# 5. Splitting Input and Output Variables"
   ]
  },
  {
   "cell_type": "markdown",
   "metadata": {},
   "source": [
    "### Slice the input variables Data"
   ]
  },
  {
   "cell_type": "code",
   "execution_count": 5,
   "metadata": {},
   "outputs": [],
   "source": [
    "Training_InputVariables=TrainingSample.values[:,0:5]"
   ]
  },
  {
   "cell_type": "markdown",
   "metadata": {},
   "source": [
    "### Slice the Output Variable Data"
   ]
  },
  {
   "cell_type": "code",
   "execution_count": 6,
   "metadata": {
    "scrolled": false
   },
   "outputs": [],
   "source": [
    "Training_OutputVariable=TrainingSample.values[:,5]"
   ]
  },
  {
   "cell_type": "code",
   "execution_count": 7,
   "metadata": {},
   "outputs": [
    {
     "name": "stdout",
     "output_type": "stream",
     "text": [
      "Input Variables of Training Data\n",
      "[[33329.2898 -0.25951661600000003 0.033232628 45.54199396 9.632019043]\n",
      " [83465.6305 -0.313352273 0.17897727300000002 42.17397727 6.038513184]\n",
      " [58320.2209 -0.802857143 0.051428571 60.34361905 8.489685059]\n",
      " ...\n",
      " [20666.927 -0.445303867 0.154696133 30.20939227 6.888000487999999]\n",
      " [60234.0316 -0.184934087 0.103578154 49.5194162 9.045593262]\n",
      " [46867.013 -0.36116279100000004 0.065116279 61.61488372 7.635314941]]\n",
      "Output Variables of Training Data\n",
      "['Nucleus' 'Extracellular' 'Nucleus' ... 'Extracellular' 'Mitochondria'\n",
      " 'Nucleus']\n"
     ]
    }
   ],
   "source": [
    "print(\"Input Variables of Training Data\")\n",
    "print (Training_InputVariables)\n",
    "print(\"Output Variables of Training Data\")\n",
    "print (Training_OutputVariable)"
   ]
  },
  {
   "cell_type": "markdown",
   "metadata": {},
   "source": [
    "# 6. Splitting Test Input and Output Variables"
   ]
  },
  {
   "cell_type": "markdown",
   "metadata": {},
   "source": [
    "### Slice the input variables Data"
   ]
  },
  {
   "cell_type": "code",
   "execution_count": 8,
   "metadata": {},
   "outputs": [],
   "source": [
    "Test_InputVariables=TestSample.values[:,0:5]"
   ]
  },
  {
   "cell_type": "markdown",
   "metadata": {},
   "source": [
    "### Slice the Output Variable Data"
   ]
  },
  {
   "cell_type": "code",
   "execution_count": 9,
   "metadata": {},
   "outputs": [],
   "source": [
    "Test_OutputVariable=TestSample.values[:,5]"
   ]
  },
  {
   "cell_type": "code",
   "execution_count": 10,
   "metadata": {},
   "outputs": [
    {
     "name": "stdout",
     "output_type": "stream",
     "text": [
      "Input Variables of Test Data\n",
      "[[50667.4842 -0.383482143 0.071428571 57.73102679 5.698669434]\n",
      " [55461.9333 -0.706626506 0.048192770999999995 72.29859438 6.154602051]\n",
      " [100591.0879 -0.75862069 0.052280310999999996 50.91370412 6.465759277]\n",
      " ...\n",
      " [59506.7141 -0.11050656699999999 0.075046904 35.15440901 8.506408691]\n",
      " [31361.8728 -0.46134751799999996 0.07092198599999999 48.69255319\n",
      "  4.74017334]\n",
      " [81749.0863 -0.264754098 0.07377049200000001 53.49262295\n",
      "  7.766906737999999]]\n",
      "Output Variables of Test Data\n"
     ]
    }
   ],
   "source": [
    "print(\"Input Variables of Test Data\")\n",
    "print (Test_InputVariables)\n",
    "print(\"Output Variables of Test Data\")\n",
    "#print (Test_OutputVariable)"
   ]
  },
  {
   "cell_type": "markdown",
   "metadata": {},
   "source": [
    "# 6. Data Preprocessing"
   ]
  },
  {
   "cell_type": "code",
   "execution_count": 11,
   "metadata": {},
   "outputs": [],
   "source": [
    "from sklearn.preprocessing import StandardScaler\n",
    "scaler = StandardScaler()"
   ]
  },
  {
   "cell_type": "markdown",
   "metadata": {},
   "source": [
    "### Fit only to the training data"
   ]
  },
  {
   "cell_type": "code",
   "execution_count": 12,
   "metadata": {},
   "outputs": [
    {
     "name": "stderr",
     "output_type": "stream",
     "text": [
      "C:\\Users\\User\\Anaconda3\\lib\\site-packages\\sklearn\\utils\\validation.py:595: DataConversionWarning: Data with input dtype object was converted to float64 by StandardScaler.\n",
      "  warnings.warn(msg, DataConversionWarning)\n",
      "C:\\Users\\User\\Anaconda3\\lib\\site-packages\\sklearn\\utils\\validation.py:595: DataConversionWarning: Data with input dtype object was converted to float64 by StandardScaler.\n",
      "  warnings.warn(msg, DataConversionWarning)\n",
      "C:\\Users\\User\\Anaconda3\\lib\\site-packages\\sklearn\\utils\\validation.py:595: DataConversionWarning: Data with input dtype object was converted to float64 by StandardScaler.\n",
      "  warnings.warn(msg, DataConversionWarning)\n"
     ]
    }
   ],
   "source": [
    "scaler.fit(Training_InputVariables)\n",
    "Training_InputVariables= scaler.transform(Training_InputVariables)\n",
    "Test_InputVariables= scaler.transform(Test_InputVariables)"
   ]
  },
  {
   "cell_type": "markdown",
   "metadata": {},
   "source": [
    "# 7. Fitting Decision Tree Classifier\n"
   ]
  },
  {
   "cell_type": "code",
   "execution_count": 13,
   "metadata": {},
   "outputs": [],
   "source": [
    "# Loading Libraries\n",
    "from sklearn import tree\n",
    "from sklearn.tree import DecisionTreeClassifier\n",
    "\n"
   ]
  },
  {
   "cell_type": "markdown",
   "metadata": {},
   "source": [
    "### Build a tree model of three layers\n"
   ]
  },
  {
   "cell_type": "code",
   "execution_count": 14,
   "metadata": {},
   "outputs": [],
   "source": [
    "tree_model= DecisionTreeClassifier (criterion=\"entropy\", random_state=5, max_depth=3, min_samples_leaf=5, max_leaf_nodes=7)"
   ]
  },
  {
   "cell_type": "markdown",
   "metadata": {},
   "source": [
    "# 8. Training The model"
   ]
  },
  {
   "cell_type": "code",
   "execution_count": 15,
   "metadata": {
    "scrolled": true
   },
   "outputs": [
    {
     "data": {
      "text/plain": [
       "DecisionTreeClassifier(class_weight=None, criterion='entropy', max_depth=3,\n",
       "            max_features=None, max_leaf_nodes=7, min_impurity_decrease=0.0,\n",
       "            min_impurity_split=None, min_samples_leaf=5,\n",
       "            min_samples_split=2, min_weight_fraction_leaf=0.0,\n",
       "            presort=False, random_state=5, splitter='best')"
      ]
     },
     "execution_count": 15,
     "metadata": {},
     "output_type": "execute_result"
    }
   ],
   "source": [
    "tree_model.fit(Training_InputVariables, Training_OutputVariable)"
   ]
  },
  {
   "cell_type": "code",
   "execution_count": 16,
   "metadata": {},
   "outputs": [],
   "source": [
    "# Visualising of Decision Tree Model\n",
    "\n",
    "# from sklearn.externals.six import StringIO\n",
    "# from IPython.display import Image\n",
    "# from sklearn.tree import export_graphviz\n",
    "# import pydotplus\n",
    "# data_feature_names=['Molecular_Weight','Gravity','Aromaticity','Instability','Isoelectic_Point']\n",
    "# targetnames=['Cytosol','Extracellular','Mitochondria']\n",
    "\n",
    "# dot_data=StringIO()\n",
    "# export_graphviz(tree_model,feature_names=data_feature_names,out_file=dot_data, class_names=targetnames,filled=True, rounded=True, special_characters=True)\n",
    "# graph=pydotplus.graph_from_dot_data(dot_data.getvalue())\n",
    "# print(Image(graph.create_png()))\n",
    "# graph.write_pdf(\"Dtree.pdf\")\n",
    "# graph.write_png(\"Dtree.png\")\n"
   ]
  },
  {
   "cell_type": "code",
   "execution_count": 17,
   "metadata": {},
   "outputs": [],
   "source": [
    "from sklearn.tree import DecisionTreeClassifier, export_graphviz\n",
    "from sklearn import tree\n",
    "#from sklearn.datasets import load_wine\n",
    "from IPython.display import SVG\n",
    "from sklearn.tree import export_graphviz\n",
    "#from graphviz import Source\n",
    "import pydotplus\n",
    "from IPython.display import display\n",
    "# load dataset\n",
    "#data = data\n",
    "\n",
    "# feature matrix\n",
    "#X = Training_InputVariables #data.data\n",
    "\n",
    "# target vector\n",
    "#y = Training_OutputVariable #data.target\n",
    "\n",
    "# class labels\n",
    "#attributes=['Molecular_Weight','Gravity','Aromaticity','Instability','Isoelectic_Point']\n",
    "#labels = data.attributes\n",
    "\n",
    "# print dataset description\n",
    "#print(data.DESCR)\n",
    "#estimator = DecisionTreeClassifier()\n",
    "#estimator.fit(X, y)\n",
    "\n",
    "#graph = Source(tree.export_graphviz(estimator, out_file=None\n",
    "#   , attributes=labels, class_names=['0', '1', '2','3','4'] \n",
    "#   , filled = True))\n",
    "# display(SVG(graph.pipe(format='svg')))"
   ]
  },
  {
   "cell_type": "markdown",
   "metadata": {},
   "source": [
    "# 9. predict the first record"
   ]
  },
  {
   "cell_type": "code",
   "execution_count": 18,
   "metadata": {},
   "outputs": [
    {
     "name": "stdout",
     "output_type": "stream",
     "text": [
      "['Nucleus']\n"
     ]
    }
   ],
   "source": [
    "prediction1=tree_model.predict([[79443.7256,-0.594714286,0.058571429,41.76828571,4.912902832]])\n",
    "print(prediction1)\n"
   ]
  },
  {
   "cell_type": "markdown",
   "metadata": {},
   "source": [
    "# 10. Predict all the records of test data"
   ]
  },
  {
   "cell_type": "code",
   "execution_count": 19,
   "metadata": {},
   "outputs": [
    {
     "name": "stdout",
     "output_type": "stream",
     "text": [
      "['Nucleus' 'Nucleus' 'Nucleus' 'Nucleus' 'Cytosol' 'Cytosol'\n",
      " 'Mitochondria' 'Cytosol' 'Nucleus' 'Cytosol' 'Cytosol' 'Cytosol'\n",
      " 'Nucleus' 'Nucleus' 'Mitochondria' 'Nucleus' 'Cytosol' 'Nucleus'\n",
      " 'Cytosol' 'Nucleus' 'Nucleus' 'Nucleus' 'Nucleus' 'Nucleus' 'Cytosol'\n",
      " 'Mitochondria' 'Nucleus' 'Mitochondria' 'Nucleus' 'Cytosol' 'Cytosol'\n",
      " 'Mitochondria' 'Nucleus' 'Cytosol' 'Cytosol' 'Mitochondria' 'Cytosol'\n",
      " 'Nucleus' 'Cytosol' 'Nucleus' 'Nucleus' 'Nucleus' 'Nucleus' 'Nucleus'\n",
      " 'Cytosol' 'Nucleus' 'Mitochondria' 'Mitochondria' 'Cytosol' 'Nucleus'\n",
      " 'Cytosol' 'Mitochondria' 'Nucleus' 'Nucleus' 'Nucleus' 'Cytosol'\n",
      " 'Nucleus' 'Nucleus' 'Nucleus' 'Cytosol' 'Cytosol' 'Mitochondria'\n",
      " 'Nucleus' 'Cytosol' 'Mitochondria' 'Cytosol' 'Nucleus' 'Mitochondria'\n",
      " 'Nucleus' 'Nucleus' 'Cytosol' 'Nucleus' 'Cytosol' 'Nucleus' 'Cytosol'\n",
      " 'Cytosol' 'Cytosol' 'Cytosol' 'Nucleus' 'Nucleus' 'Nucleus' 'Nucleus'\n",
      " 'Nucleus' 'Mitochondria' 'Nucleus' 'Cytosol' 'Nucleus' 'Cytosol'\n",
      " 'Nucleus' 'Cytosol' 'Nucleus' 'Nucleus' 'Nucleus' 'Cytosol' 'Nucleus'\n",
      " 'Cytosol' 'Nucleus' 'Cytosol' 'Cytosol' 'Nucleus' 'Nucleus'\n",
      " 'Mitochondria' 'Nucleus' 'Nucleus' 'Nucleus' 'Cytosol' 'Nucleus'\n",
      " 'Nucleus' 'Nucleus' 'Nucleus' 'Nucleus' 'Nucleus' 'Mitochondria'\n",
      " 'Cytosol' 'Nucleus' 'Nucleus' 'Cytosol' 'Nucleus' 'Nucleus' 'Cytosol'\n",
      " 'Nucleus' 'Mitochondria' 'Nucleus' 'Nucleus' 'Nucleus' 'Nucleus'\n",
      " 'Nucleus' 'Mitochondria' 'Nucleus' 'Cytosol' 'Nucleus' 'Cytosol'\n",
      " 'Nucleus' 'Nucleus' 'Cytosol' 'Nucleus' 'Nucleus' 'Nucleus' 'Nucleus'\n",
      " 'Nucleus' 'Cytosol' 'Nucleus' 'Nucleus' 'Cytosol' 'Cytosol' 'Nucleus'\n",
      " 'Nucleus' 'Nucleus' 'Cytosol' 'Cytosol' 'Nucleus' 'Cytosol'\n",
      " 'Mitochondria' 'Mitochondria' 'Nucleus' 'Cytosol' 'Nucleus' 'Nucleus'\n",
      " 'Nucleus' 'Cytosol' 'Cytosol' 'Nucleus' 'Nucleus' 'Cytosol' 'Cytosol'\n",
      " 'Nucleus' 'Nucleus' 'Nucleus' 'Nucleus' 'Nucleus' 'Nucleus'\n",
      " 'Mitochondria' 'Nucleus' 'Nucleus' 'Nucleus' 'Cytosol' 'Nucleus'\n",
      " 'Nucleus' 'Nucleus' 'Nucleus' 'Nucleus' 'Nucleus' 'Nucleus' 'Nucleus'\n",
      " 'Nucleus' 'Nucleus' 'Mitochondria' 'Nucleus' 'Mitochondria' 'Nucleus'\n",
      " 'Cytosol' 'Nucleus' 'Cytosol' 'Mitochondria' 'Cytosol' 'Cytosol'\n",
      " 'Nucleus' 'Nucleus' 'Nucleus' 'Mitochondria' 'Mitochondria' 'Nucleus'\n",
      " 'Nucleus' 'Nucleus' 'Nucleus' 'Mitochondria' 'Cytosol' 'Nucleus'\n",
      " 'Mitochondria' 'Cytosol' 'Cytosol' 'Nucleus' 'Cytosol' 'Nucleus'\n",
      " 'Nucleus' 'Nucleus' 'Nucleus' 'Cytosol' 'Cytosol' 'Nucleus'\n",
      " 'Mitochondria' 'Nucleus' 'Cytosol' 'Mitochondria' 'Cytosol' 'Cytosol'\n",
      " 'Nucleus' 'Mitochondria' 'Nucleus' 'Nucleus' 'Cytosol' 'Mitochondria'\n",
      " 'Nucleus' 'Nucleus' 'Nucleus' 'Nucleus' 'Cytosol' 'Cytosol' 'Cytosol'\n",
      " 'Cytosol' 'Nucleus' 'Nucleus' 'Nucleus' 'Cytosol' 'Nucleus' 'Nucleus'\n",
      " 'Nucleus' 'Nucleus' 'Nucleus' 'Nucleus' 'Nucleus' 'Nucleus' 'Cytosol'\n",
      " 'Nucleus' 'Cytosol' 'Cytosol' 'Nucleus' 'Nucleus' 'Cytosol' 'Nucleus'\n",
      " 'Nucleus' 'Nucleus' 'Nucleus' 'Nucleus' 'Cytosol' 'Cytosol' 'Cytosol'\n",
      " 'Nucleus' 'Nucleus' 'Nucleus' 'Nucleus' 'Nucleus' 'Nucleus' 'Cytosol'\n",
      " 'Nucleus' 'Nucleus' 'Cytosol' 'Nucleus' 'Nucleus' 'Mitochondria'\n",
      " 'Nucleus' 'Cytosol' 'Cytosol' 'Nucleus' 'Nucleus' 'Nucleus' 'Cytosol'\n",
      " 'Cytosol' 'Cytosol' 'Nucleus' 'Cytosol' 'Nucleus' 'Mitochondria'\n",
      " 'Cytosol' 'Nucleus' 'Nucleus' 'Nucleus' 'Nucleus' 'Nucleus' 'Cytosol'\n",
      " 'Nucleus' 'Nucleus' 'Nucleus' 'Mitochondria' 'Nucleus' 'Nucleus'\n",
      " 'Mitochondria' 'Nucleus' 'Nucleus' 'Mitochondria' 'Nucleus' 'Nucleus'\n",
      " 'Nucleus' 'Nucleus' 'Nucleus' 'Cytosol' 'Cytosol' 'Cytosol' 'Nucleus'\n",
      " 'Nucleus' 'Nucleus' 'Nucleus' 'Nucleus' 'Nucleus' 'Nucleus' 'Cytosol'\n",
      " 'Cytosol' 'Mitochondria' 'Cytosol' 'Mitochondria' 'Cytosol' 'Nucleus'\n",
      " 'Cytosol' 'Cytosol' 'Nucleus' 'Mitochondria' 'Nucleus' 'Nucleus'\n",
      " 'Mitochondria' 'Nucleus' 'Nucleus' 'Nucleus' 'Nucleus' 'Cytosol'\n",
      " 'Mitochondria' 'Nucleus' 'Mitochondria' 'Nucleus' 'Nucleus' 'Nucleus'\n",
      " 'Cytosol' 'Cytosol' 'Nucleus' 'Cytosol' 'Mitochondria' 'Mitochondria'\n",
      " 'Nucleus' 'Nucleus' 'Nucleus' 'Nucleus' 'Nucleus' 'Cytosol' 'Cytosol'\n",
      " 'Nucleus' 'Mitochondria' 'Nucleus' 'Cytosol' 'Nucleus' 'Nucleus'\n",
      " 'Mitochondria' 'Cytosol' 'Cytosol' 'Nucleus' 'Mitochondria' 'Cytosol'\n",
      " 'Cytosol' 'Cytosol' 'Cytosol' 'Nucleus' 'Mitochondria' 'Nucleus'\n",
      " 'Cytosol' 'Mitochondria' 'Cytosol' 'Nucleus' 'Cytosol' 'Cytosol'\n",
      " 'Nucleus' 'Nucleus' 'Cytosol' 'Nucleus' 'Nucleus' 'Mitochondria'\n",
      " 'Mitochondria' 'Nucleus' 'Nucleus' 'Nucleus' 'Cytosol' 'Nucleus'\n",
      " 'Nucleus' 'Nucleus' 'Cytosol' 'Cytosol' 'Nucleus' 'Nucleus' 'Cytosol'\n",
      " 'Cytosol' 'Cytosol' 'Nucleus' 'Nucleus' 'Nucleus' 'Nucleus' 'Nucleus'\n",
      " 'Mitochondria' 'Mitochondria' 'Mitochondria' 'Nucleus' 'Nucleus'\n",
      " 'Nucleus' 'Nucleus' 'Cytosol' 'Nucleus' 'Nucleus' 'Nucleus' 'Nucleus'\n",
      " 'Cytosol' 'Cytosol' 'Nucleus' 'Nucleus' 'Cytosol' 'Mitochondria'\n",
      " 'Nucleus' 'Mitochondria' 'Cytosol' 'Nucleus' 'Nucleus' 'Nucleus'\n",
      " 'Nucleus' 'Nucleus' 'Mitochondria' 'Mitochondria' 'Nucleus' 'Nucleus']\n"
     ]
    }
   ],
   "source": [
    "Testdata_predictions=tree_model.predict(Test_InputVariables)\n",
    "print(Testdata_predictions)"
   ]
  },
  {
   "cell_type": "markdown",
   "metadata": {},
   "source": [
    "# 12. Evaluating The Decision Tree Model"
   ]
  },
  {
   "cell_type": "code",
   "execution_count": 20,
   "metadata": {},
   "outputs": [
    {
     "name": "stdout",
     "output_type": "stream",
     "text": [
      "Accuracy is\n",
      "59.14221218961625\n"
     ]
    }
   ],
   "source": [
    "from sklearn.metrics import accuracy_score\n",
    "Testdata_predictions=tree_model.predict(Test_InputVariables)\n",
    "print(\"Accuracy is\")\n",
    "ModelAccuracy=accuracy_score(Testdata_predictions, Test_OutputVariable)*100\n",
    "print(ModelAccuracy)\n"
   ]
  },
  {
   "cell_type": "markdown",
   "metadata": {},
   "source": [
    "# 13. Making the Confusion Matrix"
   ]
  },
  {
   "cell_type": "code",
   "execution_count": 21,
   "metadata": {},
   "outputs": [
    {
     "data": {
      "text/plain": [
       "array([[ 59,   0,   6,  35],\n",
       "       [ 21,   0,   6,  20],\n",
       "       [ 19,   0,  27,  25],\n",
       "       [ 30,   0,  19, 176]], dtype=int64)"
      ]
     },
     "execution_count": 21,
     "metadata": {},
     "output_type": "execute_result"
    }
   ],
   "source": [
    "from sklearn.metrics import classification_report,confusion_matrix\n",
    "cm = confusion_matrix(Test_OutputVariable, Testdata_predictions)\n",
    "cm\n"
   ]
  },
  {
   "cell_type": "markdown",
   "metadata": {},
   "source": [
    "# 14. Classification report to evaluate how well our model performed:"
   ]
  },
  {
   "cell_type": "code",
   "execution_count": 22,
   "metadata": {},
   "outputs": [
    {
     "name": "stdout",
     "output_type": "stream",
     "text": [
      "               precision    recall  f1-score   support\n",
      "\n",
      "      Cytosol       0.46      0.59      0.52       100\n",
      "Extracellular       0.00      0.00      0.00        47\n",
      " Mitochondria       0.47      0.38      0.42        71\n",
      "      Nucleus       0.69      0.78      0.73       225\n",
      "\n",
      "    micro avg       0.59      0.59      0.59       443\n",
      "    macro avg       0.40      0.44      0.42       443\n",
      " weighted avg       0.53      0.59      0.56       443\n",
      "\n"
     ]
    },
    {
     "name": "stderr",
     "output_type": "stream",
     "text": [
      "C:\\Users\\User\\Anaconda3\\lib\\site-packages\\sklearn\\metrics\\classification.py:1143: UndefinedMetricWarning: Precision and F-score are ill-defined and being set to 0.0 in labels with no predicted samples.\n",
      "  'precision', 'predicted', average, warn_for)\n",
      "C:\\Users\\User\\Anaconda3\\lib\\site-packages\\sklearn\\metrics\\classification.py:1143: UndefinedMetricWarning: Precision and F-score are ill-defined and being set to 0.0 in labels with no predicted samples.\n",
      "  'precision', 'predicted', average, warn_for)\n",
      "C:\\Users\\User\\Anaconda3\\lib\\site-packages\\sklearn\\metrics\\classification.py:1143: UndefinedMetricWarning: Precision and F-score are ill-defined and being set to 0.0 in labels with no predicted samples.\n",
      "  'precision', 'predicted', average, warn_for)\n"
     ]
    }
   ],
   "source": [
    "print(classification_report(Test_OutputVariable,Testdata_predictions))"
   ]
  },
  {
   "cell_type": "markdown",
   "metadata": {},
   "source": [
    "# 15. Predict all the records of unknown data"
   ]
  },
  {
   "cell_type": "markdown",
   "metadata": {},
   "source": [
    "### extracting unknown data"
   ]
  },
  {
   "cell_type": "code",
   "execution_count": 23,
   "metadata": {},
   "outputs": [],
   "source": [
    "path='C:/Users/User/Desktop/Data/test_data_for_classification.csv'\n",
    "attributes=['Molecular_Weight','Gravity','Aromaticity','Instability','Isoelectic_Point','Compartment']\n",
    "unknowndata=pd.read_csv(path, names=attributes)\n",
    "#print(unknowndata)"
   ]
  },
  {
   "cell_type": "markdown",
   "metadata": {},
   "source": [
    "### Understanding unknown Data"
   ]
  },
  {
   "cell_type": "code",
   "execution_count": 24,
   "metadata": {},
   "outputs": [
    {
     "name": "stdout",
     "output_type": "stream",
     "text": [
      "       Molecular_Weight    Gravity  Aromaticity  Instability  Isoelectic_Point\n",
      "count         20.000000  20.000000    20.000000    20.000000         20.000000\n",
      "mean       41537.690505  -0.330752     0.078720    41.165265          7.779529\n",
      "std        18373.515303   0.352151     0.023730    12.849688          1.896563\n",
      "min        14352.000700  -1.101833     0.048649    23.574262          4.019226\n",
      "25%        32644.786975  -0.631219     0.059577    31.610169          6.357452\n",
      "50%        39574.256050  -0.185042     0.072829    38.692497          8.357605\n",
      "75%        49286.619425  -0.095838     0.102079    49.454036          9.439514\n",
      "max        85515.797200   0.251081     0.123894    72.129532         10.125305\n"
     ]
    }
   ],
   "source": [
    "print(unknowndata.describe())"
   ]
  },
  {
   "cell_type": "markdown",
   "metadata": {},
   "source": [
    "### Splitting The Independent/Input Variables in Unknown Data Set"
   ]
  },
  {
   "cell_type": "code",
   "execution_count": 25,
   "metadata": {},
   "outputs": [
    {
     "name": "stdout",
     "output_type": "stream",
     "text": [
      "[[40263.0269 0.25108108100000004 0.048648649 60.33513514 5.877868652]\n",
      " [39617.6499 -0.102259887 0.10451977400000001 38.79129944\n",
      "  5.084777831999999]\n",
      " [45866.9224 -0.112106538 0.075060533 35.49200969 5.832702637000001]\n",
      " [54961.4351 -1.101832994 0.059063135999999995 72.12953157 9.216491699]\n",
      " [14755.7075 -0.658208955 0.052238806 41.93955224 9.836486816]\n",
      " [34945.3058 -0.7802589 0.058252427 47.93398058 9.045471191]\n",
      " [51543.7667 -0.765470852 0.11659192800000001 30.09105381 9.405334473]\n",
      " [34516.1377 -0.683962264 0.059748428 57.70345912 9.849182128999999]\n",
      " [31408.4965 -0.622222222 0.107407407 31.58740741 6.441711426]\n",
      " [82535.3139 -0.215860215 0.060483870999999995 39.33239247 6.518981934]\n",
      " [39530.8622 -0.096952909 0.07479224400000001 31.61775623 6.425354004]\n",
      " [85515.7972 -0.46693333299999995 0.10666666699999999 41.17746667\n",
      "  6.153747559]\n",
      " [40511.6111 -0.15422343300000002 0.065395095 31.92234332 9.004089355]\n",
      " [35031.2335 -0.092492492 0.05105105099999999 38.59369369 9.542053223]\n",
      " [53409.2222 -0.129253112 0.080912863 34.14253112 8.452697753999999]\n",
      " [33056.8838 -0.605594406 0.066433566 55.53881119 9.924377441]\n",
      " [48534.237 -0.089977221 0.09111617300000001 26.37974943 6.57220459]\n",
      " [14352.0007 0.081889764 0.07086614200000001 31.00866142 10.12530518]\n",
      " [25021.2561 -0.035443037999999996 0.101265823 23.5742616 4.019226074]\n",
      " [25376.9439 -0.234955752 0.123893805 54.01420354 8.262512207]]\n"
     ]
    }
   ],
   "source": [
    "Unknown_InputVariables=unknowndata.values[:,0:5]\n",
    "print(Unknown_InputVariables)"
   ]
  },
  {
   "cell_type": "markdown",
   "metadata": {},
   "source": [
    "# 16. Predicting Unknown"
   ]
  },
  {
   "cell_type": "code",
   "execution_count": 26,
   "metadata": {
    "scrolled": true
   },
   "outputs": [
    {
     "name": "stdout",
     "output_type": "stream",
     "text": [
      "['Nucleus' 'Nucleus' 'Nucleus' 'Nucleus' 'Nucleus' 'Nucleus' 'Nucleus'\n",
      " 'Nucleus' 'Nucleus' 'Nucleus' 'Nucleus' 'Nucleus' 'Nucleus' 'Nucleus'\n",
      " 'Nucleus' 'Nucleus' 'Nucleus' 'Nucleus' 'Nucleus' 'Nucleus']\n"
     ]
    }
   ],
   "source": [
    "Unknowndata_predictions=tree_model.predict(Unknown_InputVariables)\n",
    "print(Unknowndata_predictions)"
   ]
  }
 ],
 "metadata": {
  "kernelspec": {
   "display_name": "Python 3",
   "language": "python",
   "name": "python3"
  },
  "language_info": {
   "codemirror_mode": {
    "name": "ipython",
    "version": 3
   },
   "file_extension": ".py",
   "mimetype": "text/x-python",
   "name": "python",
   "nbconvert_exporter": "python",
   "pygments_lexer": "ipython3",
   "version": "3.7.3"
  }
 },
 "nbformat": 4,
 "nbformat_minor": 2
}
